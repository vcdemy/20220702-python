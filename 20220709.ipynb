{
  "nbformat": 4,
  "nbformat_minor": 0,
  "metadata": {
    "colab": {
      "name": "20220709.ipynb",
      "provenance": [],
      "authorship_tag": "ABX9TyN9WjAiwB16FV0XShjuxwt5",
      "include_colab_link": true
    },
    "kernelspec": {
      "name": "python3",
      "display_name": "Python 3"
    },
    "language_info": {
      "name": "python"
    }
  },
  "cells": [
    {
      "cell_type": "markdown",
      "metadata": {
        "id": "view-in-github",
        "colab_type": "text"
      },
      "source": [
        "<a href=\"https://colab.research.google.com/github/vcdemy/20220702-python/blob/main/20220709.ipynb\" target=\"_parent\"><img src=\"https://colab.research.google.com/assets/colab-badge.svg\" alt=\"Open In Colab\"/></a>"
      ]
    },
    {
      "cell_type": "markdown",
      "source": [
        "# 20220709"
      ],
      "metadata": {
        "id": "ygilIRMPgKdf"
      }
    },
    {
      "cell_type": "markdown",
      "source": [
        "## 初學者需要知道的概念\n",
        "\n",
        "* 資料型態\n",
        "  * int ==> 整數 (0, 1, 2, ...)\n",
        "  * float ==> 浮點數 (3.14, 1.1, ...)\n",
        "  * bool ==> 布林變數 (True, False)\n",
        "  * str ==> 字串 (\"dog\", 'cat',...)\n",
        "* 容器型別\n",
        "  * list ==> 串列 [ ]\n",
        "  * tuple ==> 元組 ( )\n",
        "  * dict ==> 字典 { }\n",
        "  * set ==> 集合 { }\n",
        "* 基礎語法\n",
        "  * loops ==> 迴圈\n",
        "  * functions ==> 函式\n",
        "  * if statements ==> 條件式\n",
        "  * exception handling ==> 例外處理"
      ],
      "metadata": {
        "id": "FDg8snhVgS4p"
      }
    },
    {
      "cell_type": "markdown",
      "source": [
        "# loops: for, while"
      ],
      "metadata": {
        "id": "prpglV28mWQM"
      }
    },
    {
      "cell_type": "markdown",
      "source": [
        "## for loops\n",
        "\n",
        "### 基本語法\n",
        "\n",
        "```python\n",
        "for 變數 in 資料結構:\n",
        "  程式區塊 (裡面可以使用上面的變數)\n",
        "```"
      ],
      "metadata": {
        "id": "0qj5D5uomdJY"
      }
    },
    {
      "cell_type": "code",
      "execution_count": null,
      "metadata": {
        "colab": {
          "base_uri": "https://localhost:8080/"
        },
        "id": "GdOptU3rfv1a",
        "outputId": "330927b2-c758-46f9-948c-263be7478e65"
      },
      "outputs": [
        {
          "output_type": "stream",
          "name": "stdout",
          "text": [
            "程式區塊開始\n",
            "0\n",
            "程式區塊結束\n",
            "程式區塊開始\n",
            "1\n",
            "程式區塊結束\n",
            "程式區塊開始\n",
            "2\n",
            "程式區塊結束\n"
          ]
        }
      ],
      "source": [
        "for i in range(3):\n",
        "  print(\"程式區塊開始\")\n",
        "  print(i)\n",
        "  print(\"程式區塊結束\")"
      ]
    },
    {
      "cell_type": "code",
      "source": [
        "for i in range(3):\n",
        "  print(\"程式區塊開始\")\n",
        "  print(i)\n",
        "print(\"程式區塊結束\")"
      ],
      "metadata": {
        "colab": {
          "base_uri": "https://localhost:8080/"
        },
        "id": "etbaQLaFnyH7",
        "outputId": "617e3828-3cde-456b-efba-23a6391d8ee9"
      },
      "execution_count": null,
      "outputs": [
        {
          "output_type": "stream",
          "name": "stdout",
          "text": [
            "程式區塊開始\n",
            "0\n",
            "程式區塊開始\n",
            "1\n",
            "程式區塊開始\n",
            "2\n",
            "程式區塊結束\n"
          ]
        }
      ]
    },
    {
      "cell_type": "code",
      "source": [
        "for i in range(3):\n",
        "print(\"程式區塊開始\")\n",
        "print(i)\n",
        "print(\"程式區塊結束\")"
      ],
      "metadata": {
        "colab": {
          "base_uri": "https://localhost:8080/",
          "height": 133
        },
        "id": "OHQjOeTzn9SU",
        "outputId": "f3c74ee2-6f57-4cf8-da65-c07beea2ec4a"
      },
      "execution_count": null,
      "outputs": [
        {
          "output_type": "error",
          "ename": "IndentationError",
          "evalue": "ignored",
          "traceback": [
            "\u001b[0;36m  File \u001b[0;32m\"<ipython-input-3-9e4012335ee3>\"\u001b[0;36m, line \u001b[0;32m2\u001b[0m\n\u001b[0;31m    print(\"程式區塊開始\")\u001b[0m\n\u001b[0m        ^\u001b[0m\n\u001b[0;31mIndentationError\u001b[0m\u001b[0;31m:\u001b[0m expected an indented block\n"
          ]
        }
      ]
    },
    {
      "cell_type": "markdown",
      "source": [
        "## while loops\n",
        "\n",
        "### 基本語法\n",
        "\n",
        "```python\n",
        "while 條件式:\n",
        "  程式區塊\n",
        "```"
      ],
      "metadata": {
        "id": "OwC-2mrfoNvu"
      }
    },
    {
      "cell_type": "code",
      "source": [
        "x = 0\n",
        "while x < 10:\n",
        "  print(x)\n",
        "  x = x + 1"
      ],
      "metadata": {
        "id": "AElKrfogoaod"
      },
      "execution_count": null,
      "outputs": []
    },
    {
      "cell_type": "markdown",
      "source": [
        "## 寫一個九九乘法表 (可以使用巢狀迴圈)\n",
        "\n",
        "巢狀迴圈：nested loops\n",
        "\n",
        "可以用 for 迴圈或 while 迴圈做做看！"
      ],
      "metadata": {
        "id": "5PhME8expfLQ"
      }
    },
    {
      "cell_type": "markdown",
      "source": [
        "### 方法一"
      ],
      "metadata": {
        "id": "Wg4Iq7Lps9Uw"
      }
    },
    {
      "cell_type": "code",
      "source": [
        "for i in range(5):\n",
        "  print(i)"
      ],
      "metadata": {
        "colab": {
          "base_uri": "https://localhost:8080/"
        },
        "id": "AYb-pAW3pqAK",
        "outputId": "b74c014e-ad66-4ea4-cf53-d75f8d4eee53"
      },
      "execution_count": null,
      "outputs": [
        {
          "output_type": "stream",
          "name": "stdout",
          "text": [
            "0\n",
            "1\n",
            "2\n",
            "3\n",
            "4\n"
          ]
        }
      ]
    },
    {
      "cell_type": "code",
      "source": [
        "list(range(5))"
      ],
      "metadata": {
        "colab": {
          "base_uri": "https://localhost:8080/"
        },
        "id": "8c7Ve_lFpyHa",
        "outputId": "48d7bf61-ee1f-4e18-b630-bd21d6045d52"
      },
      "execution_count": null,
      "outputs": [
        {
          "output_type": "execute_result",
          "data": {
            "text/plain": [
              "[0, 1, 2, 3, 4]"
            ]
          },
          "metadata": {},
          "execution_count": 9
        }
      ]
    },
    {
      "cell_type": "code",
      "source": [
        "list(range(2, 10))"
      ],
      "metadata": {
        "colab": {
          "base_uri": "https://localhost:8080/"
        },
        "id": "GDDzJ3VFqJ02",
        "outputId": "09318f7f-bf2f-474e-98fe-aae9667d2f95"
      },
      "execution_count": null,
      "outputs": [
        {
          "output_type": "execute_result",
          "data": {
            "text/plain": [
              "[2, 3, 4, 5, 6, 7, 8, 9]"
            ]
          },
          "metadata": {},
          "execution_count": 10
        }
      ]
    },
    {
      "cell_type": "code",
      "source": [
        "for i in range(2, 10):\n",
        "  print(i)"
      ],
      "metadata": {
        "colab": {
          "base_uri": "https://localhost:8080/"
        },
        "id": "lM0wr2yQpuuj",
        "outputId": "97061dab-2759-4ad9-ab8c-72b45aead11d"
      },
      "execution_count": null,
      "outputs": [
        {
          "output_type": "stream",
          "name": "stdout",
          "text": [
            "2\n",
            "3\n",
            "4\n",
            "5\n",
            "6\n",
            "7\n",
            "8\n",
            "9\n"
          ]
        }
      ]
    },
    {
      "cell_type": "code",
      "source": [
        "# hint\n",
        "for i in range(2, 10):\n",
        "  for j in range(2, 10):\n",
        "    print(i, \"x\", j)"
      ],
      "metadata": {
        "id": "LVFxRyvWqWm0"
      },
      "execution_count": null,
      "outputs": []
    },
    {
      "cell_type": "code",
      "source": [
        "for i in range(2, 10):\n",
        "  for j in range(2, 10):\n",
        "    print(i, \"x\", j, \"=\", i*j)"
      ],
      "metadata": {
        "id": "x5gKx5ndsYFY"
      },
      "execution_count": null,
      "outputs": []
    },
    {
      "cell_type": "markdown",
      "source": [
        "### 方法二"
      ],
      "metadata": {
        "id": "gGc0ExvZtAEi"
      }
    },
    {
      "cell_type": "markdown",
      "source": [
        "我想要印出九九乘法表(像上面一樣)！\n",
        "\n",
        "請問底下的程式，哪裡錯了？"
      ],
      "metadata": {
        "id": "9Ow5NF9Ht6fJ"
      }
    },
    {
      "cell_type": "code",
      "source": [
        "i = 2\n",
        "j = 2\n",
        "while i < 10:\n",
        "  while j < 10:\n",
        "    print(i, \"x\", j, \"=\", i*j)\n",
        "    j = j + 1\n",
        "  i = i + 1"
      ],
      "metadata": {
        "colab": {
          "base_uri": "https://localhost:8080/"
        },
        "id": "VZUBsZ69tCkO",
        "outputId": "491201dc-2dea-4733-d6a8-24d82d80667e"
      },
      "execution_count": null,
      "outputs": [
        {
          "output_type": "stream",
          "name": "stdout",
          "text": [
            "2 x 2 = 4\n",
            "2 x 3 = 6\n",
            "2 x 4 = 8\n",
            "2 x 5 = 10\n",
            "2 x 6 = 12\n",
            "2 x 7 = 14\n",
            "2 x 8 = 16\n",
            "2 x 9 = 18\n"
          ]
        }
      ]
    },
    {
      "cell_type": "code",
      "source": [
        "i = 2\n",
        "while i < 10:\n",
        "  j = 2\n",
        "  while j < 10:\n",
        "    print(i, \"x\", j, \"=\", i*j)\n",
        "    j = j + 1\n",
        "  i = i + 1"
      ],
      "metadata": {
        "id": "9L4xl_m55_9I"
      },
      "execution_count": null,
      "outputs": []
    },
    {
      "cell_type": "markdown",
      "source": [
        "# 條件式 (if statements)\n",
        "\n",
        "語法一:\n",
        "\n",
        "使用條件式來決定程式區塊是否被執行。\n",
        "\n",
        "```python\n",
        "if 條件式:\n",
        "  程式區塊\n",
        "```"
      ],
      "metadata": {
        "id": "TY7NMJVuuTNp"
      }
    },
    {
      "cell_type": "code",
      "source": [
        "a = 3\n",
        "b = 4\n",
        "\n",
        "if a > b:\n",
        "  print(\"a > b\")"
      ],
      "metadata": {
        "id": "PXfq2vBku25f"
      },
      "execution_count": null,
      "outputs": []
    },
    {
      "cell_type": "markdown",
      "source": [
        "語法二:\n",
        "\n",
        "使用條件式來決定執行程式區塊1還是程式區塊2。\n",
        "\n",
        "```python\n",
        "if 條件式:\n",
        "  程式區塊1\n",
        "else:\n",
        "  程式區塊2\n",
        "```\n"
      ],
      "metadata": {
        "id": "RhMyxAd8wqbF"
      }
    },
    {
      "cell_type": "code",
      "source": [
        "a = 3\n",
        "b = 2\n",
        "\n",
        "if a > b:\n",
        "  print(\"a > b\")\n",
        "else:\n",
        "  print(\"a <= b\")"
      ],
      "metadata": {
        "colab": {
          "base_uri": "https://localhost:8080/"
        },
        "id": "7GMmMHHDv-vr",
        "outputId": "c598f0e1-7123-4a16-bfff-2c2c769c1e13"
      },
      "execution_count": null,
      "outputs": [
        {
          "output_type": "stream",
          "name": "stdout",
          "text": [
            "a > b\n"
          ]
        }
      ]
    },
    {
      "cell_type": "markdown",
      "source": [
        "語法三:\n",
        "\n",
        "使用條件式1跟條件式2來決定執行程式區塊1, 程式區塊2, 還是程式區塊3。\n",
        "\n",
        "```python\n",
        "if 條件式1:\n",
        "  程式區塊1\n",
        "elif 條件式2:\n",
        "  程式區塊2\n",
        "else:\n",
        "  程式區塊3\n",
        "```"
      ],
      "metadata": {
        "id": "DfKJd8vewvVI"
      }
    },
    {
      "cell_type": "code",
      "source": [
        "a = 2\n",
        "b = 2\n",
        "\n",
        "if a > b:\n",
        "  print(\"a > b\")\n",
        "elif a < b:\n",
        "  print(\"a < b\")\n",
        "else:\n",
        "  print(\"a = b\")"
      ],
      "metadata": {
        "colab": {
          "base_uri": "https://localhost:8080/"
        },
        "id": "wTJwf0oZwRjN",
        "outputId": "82dd1e22-d979-47f8-dda2-498e991a9b7f"
      },
      "execution_count": null,
      "outputs": [
        {
          "output_type": "stream",
          "name": "stdout",
          "text": [
            "a = b\n"
          ]
        }
      ]
    },
    {
      "cell_type": "code",
      "source": [
        "a = 3\n",
        "b = 2"
      ],
      "metadata": {
        "id": "MGyTQrZTxtvD"
      },
      "execution_count": null,
      "outputs": []
    },
    {
      "cell_type": "code",
      "source": [
        "a == b"
      ],
      "metadata": {
        "colab": {
          "base_uri": "https://localhost:8080/"
        },
        "id": "OpD-TLB9xuaH",
        "outputId": "b19cfce5-5782-4c06-a0d5-b29be7a5777d"
      },
      "execution_count": null,
      "outputs": [
        {
          "output_type": "execute_result",
          "data": {
            "text/plain": [
              "False"
            ]
          },
          "metadata": {},
          "execution_count": 26
        }
      ]
    },
    {
      "cell_type": "markdown",
      "source": [
        "## 練習\n",
        "\n",
        "請計算 bmi 並判斷體位。\n",
        "\n",
        "$$ bmi = \\frac{體重(公斤)}{身高(公尺)^2} $$\n",
        "\n",
        "|條件|體衛|\n",
        "|:-:|:-:|\n",
        "|bmi < 18 | 體重過輕 |\n",
        "|18 <= bmi < 24 | 健康體位 |\n",
        "|bmi > 24 | 體重過重| "
      ],
      "metadata": {
        "id": "_yGCqclxyGXv"
      }
    },
    {
      "cell_type": "code",
      "source": [
        "weight = 80\n",
        "height = 1.83\n",
        "\n",
        "bmi = weight/(height**2)"
      ],
      "metadata": {
        "id": "lu24JETxxwCf"
      },
      "execution_count": null,
      "outputs": []
    },
    {
      "cell_type": "code",
      "source": [
        "bmi"
      ],
      "metadata": {
        "colab": {
          "base_uri": "https://localhost:8080/"
        },
        "id": "HjvMcUBPzPcm",
        "outputId": "ffdc469c-63bf-43c0-d224-e5e9c065c76a"
      },
      "execution_count": null,
      "outputs": [
        {
          "output_type": "execute_result",
          "data": {
            "text/plain": [
              "23.888440980620498"
            ]
          },
          "metadata": {},
          "execution_count": 30
        }
      ]
    },
    {
      "cell_type": "code",
      "source": [
        "if bmi < 18:\n",
        "  print(\"體重過輕\")\n",
        "elif bmi > 24:\n",
        "  print(\"體重過重\")\n",
        "else:\n",
        "  print(\"健康體位\")"
      ],
      "metadata": {
        "id": "g-ipftKTzQMT",
        "colab": {
          "base_uri": "https://localhost:8080/"
        },
        "outputId": "0f3e3a96-1b41-4722-c7f7-fb2217ab43c0"
      },
      "execution_count": null,
      "outputs": [
        {
          "output_type": "stream",
          "name": "stdout",
          "text": [
            "健康體位\n"
          ]
        }
      ]
    },
    {
      "cell_type": "code",
      "source": [
        "def health1(w, h):\n",
        "  bmi = w/(h**2)\n",
        "  if bmi < 18:\n",
        "    print(\"體重過輕\")\n",
        "  elif bmi > 24:\n",
        "    print(\"體重過重\")\n",
        "  else:\n",
        "    print(\"健康體位\")"
      ],
      "metadata": {
        "id": "lgdURble2p0Q"
      },
      "execution_count": null,
      "outputs": []
    },
    {
      "cell_type": "code",
      "source": [
        "health1(80, 1.83)"
      ],
      "metadata": {
        "colab": {
          "base_uri": "https://localhost:8080/"
        },
        "id": "DKdbaJek28Xy",
        "outputId": "ff424883-d4bc-40bf-833a-2c364e5c2285"
      },
      "execution_count": null,
      "outputs": [
        {
          "output_type": "stream",
          "name": "stdout",
          "text": [
            "健康體位\n"
          ]
        }
      ]
    },
    {
      "cell_type": "code",
      "source": [
        "def health2(w, h):\n",
        "  bmi = w/(h**2)\n",
        "  if bmi < 18:\n",
        "    return \"體重過輕\"\n",
        "  elif bmi > 24:\n",
        "    return \"體重過重\"\n",
        "  else:\n",
        "    return \"健康體位\""
      ],
      "metadata": {
        "id": "qPjK8yad4ETQ"
      },
      "execution_count": null,
      "outputs": []
    },
    {
      "cell_type": "code",
      "source": [
        "health2(80, 1.83)"
      ],
      "metadata": {
        "colab": {
          "base_uri": "https://localhost:8080/"
        },
        "id": "aYzGrIA94Rl5",
        "outputId": "9b72e105-4e97-4aff-9137-08306423a11a"
      },
      "execution_count": null,
      "outputs": [
        {
          "output_type": "execute_result",
          "data": {
            "text/plain": [
              "'健康體位'"
            ],
            "application/vnd.google.colaboratory.intrinsic+json": {
              "type": "string"
            }
          },
          "metadata": {},
          "execution_count": 42
        }
      ]
    },
    {
      "cell_type": "code",
      "source": [
        "x = health1(80, 1.83)\n",
        "y = health2(80, 1.83)"
      ],
      "metadata": {
        "colab": {
          "base_uri": "https://localhost:8080/"
        },
        "id": "vg-Btnhn4Sxb",
        "outputId": "ca75e3c1-b0c0-4021-8d40-c78e238038da"
      },
      "execution_count": null,
      "outputs": [
        {
          "output_type": "stream",
          "name": "stdout",
          "text": [
            "健康體位\n"
          ]
        }
      ]
    },
    {
      "cell_type": "code",
      "source": [
        "print(x)"
      ],
      "metadata": {
        "colab": {
          "base_uri": "https://localhost:8080/"
        },
        "id": "FCYoeoV94pDO",
        "outputId": "aba468ae-6a46-4915-82bc-1bd33556641f"
      },
      "execution_count": null,
      "outputs": [
        {
          "output_type": "stream",
          "name": "stdout",
          "text": [
            "None\n"
          ]
        }
      ]
    },
    {
      "cell_type": "code",
      "source": [
        "print(y)"
      ],
      "metadata": {
        "colab": {
          "base_uri": "https://localhost:8080/"
        },
        "id": "vqY4NiC84sSd",
        "outputId": "6a3c6cdf-5249-40d4-8399-ca2ce37e9d5a"
      },
      "execution_count": null,
      "outputs": [
        {
          "output_type": "stream",
          "name": "stdout",
          "text": [
            "健康體位\n"
          ]
        }
      ]
    },
    {
      "cell_type": "code",
      "source": [
        "# 用 input 取得的資料型態為: str\n",
        "# 如果要做數值運算，需要轉型\n",
        "x = input(\"請輸入資料：\")"
      ],
      "metadata": {
        "colab": {
          "base_uri": "https://localhost:8080/"
        },
        "id": "cqNkZq6k4uC9",
        "outputId": "95a21b2b-5343-4d37-d9b5-edff8c3079cc"
      },
      "execution_count": null,
      "outputs": [
        {
          "name": "stdout",
          "output_type": "stream",
          "text": [
            "請輸入資料：123\n"
          ]
        }
      ]
    },
    {
      "cell_type": "code",
      "source": [
        "x"
      ],
      "metadata": {
        "colab": {
          "base_uri": "https://localhost:8080/"
        },
        "id": "9ApD-uBX7Kzx",
        "outputId": "0958b255-e2b7-460b-b8d8-4c78ee51542d"
      },
      "execution_count": null,
      "outputs": [
        {
          "output_type": "execute_result",
          "data": {
            "text/plain": [
              "'123'"
            ],
            "application/vnd.google.colaboratory.intrinsic+json": {
              "type": "string"
            }
          },
          "metadata": {},
          "execution_count": 53
        }
      ]
    },
    {
      "cell_type": "code",
      "source": [
        "# 底下的 float() 是將 str 轉換成 float\n",
        "w = input(\"請輸入體重(公斤)：\")\n",
        "h = input(\"請輸入身高(公尺)：\")\n",
        "health2(float(w), float(h))"
      ],
      "metadata": {
        "colab": {
          "base_uri": "https://localhost:8080/"
        },
        "id": "wnR5oE6M7blB",
        "outputId": "0440b735-d8b7-462c-9e47-992708784379"
      },
      "execution_count": null,
      "outputs": [
        {
          "name": "stdout",
          "output_type": "stream",
          "text": [
            "請輸入體重(公斤)：80\n",
            "請輸入身高(公尺)：1.83\n"
          ]
        },
        {
          "output_type": "execute_result",
          "data": {
            "text/plain": [
              "'健康體位'"
            ],
            "application/vnd.google.colaboratory.intrinsic+json": {
              "type": "string"
            }
          },
          "metadata": {},
          "execution_count": 54
        }
      ]
    },
    {
      "cell_type": "markdown",
      "source": [
        "# Gradio 使用簡介"
      ],
      "metadata": {
        "id": "Oe2KW_lM_sFh"
      }
    },
    {
      "cell_type": "code",
      "source": [
        "!pip install gradio"
      ],
      "metadata": {
        "id": "9wwma8dR_uhI"
      },
      "execution_count": null,
      "outputs": []
    },
    {
      "cell_type": "code",
      "source": [
        "def greet(name):\n",
        "  return \"Hello \" + name + \"!\"\n",
        "\n",
        "greet(\"World\")"
      ],
      "metadata": {
        "colab": {
          "base_uri": "https://localhost:8080/",
          "height": 36
        },
        "id": "-ET0qLD5_1r5",
        "outputId": "604276c3-d4bc-4e51-ce2c-59a17ca13349"
      },
      "execution_count": null,
      "outputs": [
        {
          "output_type": "execute_result",
          "data": {
            "text/plain": [
              "'Hello World!'"
            ],
            "application/vnd.google.colaboratory.intrinsic+json": {
              "type": "string"
            }
          },
          "metadata": {},
          "execution_count": 56
        }
      ]
    },
    {
      "cell_type": "code",
      "source": [
        "import gradio"
      ],
      "metadata": {
        "id": "-J31Vy97AW2j"
      },
      "execution_count": null,
      "outputs": []
    },
    {
      "cell_type": "code",
      "source": [
        "gradio.Interface(greet, \"text\", \"text\", title=\"打招呼\").launch(share=True)"
      ],
      "metadata": {
        "colab": {
          "base_uri": "https://localhost:8080/",
          "height": 666
        },
        "id": "1-4MgmZSAR1P",
        "outputId": "0ea8f5fc-594d-4a51-ae65-d3e6b5182a73"
      },
      "execution_count": null,
      "outputs": [
        {
          "output_type": "stream",
          "name": "stdout",
          "text": [
            "Colab notebook detected. To show errors in colab notebook, set `debug=True` in `launch()`\n",
            "Running on public URL: https://54690.gradio.app\n",
            "\n",
            "This share link expires in 72 hours. For free permanent hosting, check out Spaces (https://huggingface.co/spaces)\n"
          ]
        },
        {
          "output_type": "display_data",
          "data": {
            "text/plain": [
              "<IPython.core.display.HTML object>"
            ],
            "text/html": [
              "<div><iframe src=\"https://54690.gradio.app\" width=\"900\" height=\"500\" allow=\"autoplay; camera; microphone;\" frameborder=\"0\" allowfullscreen></iframe></div>"
            ]
          },
          "metadata": {}
        },
        {
          "output_type": "execute_result",
          "data": {
            "text/plain": [
              "(<gradio.routes.App at 0x7f695ab84d50>,\n",
              " 'http://127.0.0.1:7861/',\n",
              " 'https://54690.gradio.app')"
            ]
          },
          "metadata": {},
          "execution_count": 59
        }
      ]
    },
    {
      "cell_type": "code",
      "source": [
        "def health1(w, h):\n",
        "  bmi = float(w)/(float(h)**2)\n",
        "  if bmi < 18:\n",
        "    print(\"體重過輕\")\n",
        "  elif bmi > 24:\n",
        "    print(\"體重過重\")\n",
        "  else:\n",
        "    print(\"健康體位\")"
      ],
      "metadata": {
        "id": "8DbV0fmZEhit"
      },
      "execution_count": null,
      "outputs": []
    },
    {
      "cell_type": "code",
      "source": [
        "def health2(w, h):\n",
        "  bmi = float(w)/(float(h)**2)\n",
        "  if bmi < 18:\n",
        "    return \"體重過輕\"\n",
        "  elif bmi > 24:\n",
        "    return \"體重過重\"\n",
        "  else:\n",
        "    return \"健康體位\""
      ],
      "metadata": {
        "id": "Is70wJPhCryZ"
      },
      "execution_count": null,
      "outputs": []
    },
    {
      "cell_type": "code",
      "source": [
        "def health3(w, h):\n",
        "  bmi = float(w)/(float(h)**2)\n",
        "  if bmi < 18:\n",
        "    return bmi, \"體重過輕\"\n",
        "  elif bmi > 24:\n",
        "    return bmi, \"體重過重\"\n",
        "  else:\n",
        "    return bmi, \"健康體位\""
      ],
      "metadata": {
        "id": "dpmoteeGGRNA"
      },
      "execution_count": null,
      "outputs": []
    },
    {
      "cell_type": "code",
      "source": [
        "gradio.Interface(health3, [\"text\",\"text\"], [\"text\",\"text\"], title=\"判斷體位狀況\").launch(share=True)"
      ],
      "metadata": {
        "colab": {
          "base_uri": "https://localhost:8080/",
          "height": 666
        },
        "id": "E-RZorsUCQVe",
        "outputId": "3a2b60a0-d515-4ced-b994-7f34beaa146b"
      },
      "execution_count": null,
      "outputs": [
        {
          "output_type": "stream",
          "name": "stdout",
          "text": [
            "Colab notebook detected. To show errors in colab notebook, set `debug=True` in `launch()`\n",
            "Running on public URL: https://51625.gradio.app\n",
            "\n",
            "This share link expires in 72 hours. For free permanent hosting, check out Spaces (https://huggingface.co/spaces)\n"
          ]
        },
        {
          "output_type": "display_data",
          "data": {
            "text/plain": [
              "<IPython.core.display.HTML object>"
            ],
            "text/html": [
              "<div><iframe src=\"https://51625.gradio.app\" width=\"900\" height=\"500\" allow=\"autoplay; camera; microphone;\" frameborder=\"0\" allowfullscreen></iframe></div>"
            ]
          },
          "metadata": {}
        },
        {
          "output_type": "execute_result",
          "data": {
            "text/plain": [
              "(<gradio.routes.App at 0x7f695ab97f50>,\n",
              " 'http://127.0.0.1:7865/',\n",
              " 'https://51625.gradio.app')"
            ]
          },
          "metadata": {},
          "execution_count": 66
        }
      ]
    },
    {
      "cell_type": "code",
      "source": [
        "import requests"
      ],
      "metadata": {
        "id": "iq6VRqknG63w"
      },
      "execution_count": null,
      "outputs": []
    },
    {
      "cell_type": "code",
      "source": [
        "def lookup(word):\n",
        "  url = f\"https://www.moedict.tw/uni/{word}\"\n",
        "  return requests.get(url).json()"
      ],
      "metadata": {
        "id": "X4ptVyDsG70-"
      },
      "execution_count": null,
      "outputs": []
    },
    {
      "cell_type": "code",
      "source": [
        "gradio.Interface(lookup, \"text\", \"text\", title=\"萌典API使用範例\").launch(share=True)"
      ],
      "metadata": {
        "colab": {
          "base_uri": "https://localhost:8080/",
          "height": 666
        },
        "id": "6pMLdlCqHDT-",
        "outputId": "f8a72b4a-919d-4810-9a36-ff06c56021e5"
      },
      "execution_count": null,
      "outputs": [
        {
          "output_type": "stream",
          "name": "stdout",
          "text": [
            "Colab notebook detected. To show errors in colab notebook, set `debug=True` in `launch()`\n",
            "Running on public URL: https://40173.gradio.app\n",
            "\n",
            "This share link expires in 72 hours. For free permanent hosting, check out Spaces (https://huggingface.co/spaces)\n"
          ]
        },
        {
          "output_type": "display_data",
          "data": {
            "text/plain": [
              "<IPython.core.display.HTML object>"
            ],
            "text/html": [
              "<div><iframe src=\"https://40173.gradio.app\" width=\"900\" height=\"500\" allow=\"autoplay; camera; microphone;\" frameborder=\"0\" allowfullscreen></iframe></div>"
            ]
          },
          "metadata": {}
        },
        {
          "output_type": "execute_result",
          "data": {
            "text/plain": [
              "(<gradio.routes.App at 0x7f694f69d550>,\n",
              " 'http://127.0.0.1:7866/',\n",
              " 'https://40173.gradio.app')"
            ]
          },
          "metadata": {},
          "execution_count": 69
        }
      ]
    },
    {
      "cell_type": "markdown",
      "source": [
        "# 爬蟲簡介"
      ],
      "metadata": {
        "id": "ON6ExGB9fJhY"
      }
    },
    {
      "cell_type": "code",
      "source": [
        "import requests"
      ],
      "metadata": {
        "id": "Fc9R5mgcfPx9"
      },
      "execution_count": null,
      "outputs": []
    },
    {
      "cell_type": "code",
      "source": [
        "url = \"https://victorgau.github.io/khpy_web_intro/html_only.html\""
      ],
      "metadata": {
        "id": "yj3hZlLQfjAA"
      },
      "execution_count": null,
      "outputs": []
    },
    {
      "cell_type": "code",
      "source": [
        "r = requests.get(url)"
      ],
      "metadata": {
        "id": "lRzPd6wPflY9"
      },
      "execution_count": null,
      "outputs": []
    },
    {
      "cell_type": "code",
      "source": [
        "print(r.text)"
      ],
      "metadata": {
        "colab": {
          "base_uri": "https://localhost:8080/"
        },
        "id": "Y_eNYnw0fuAD",
        "outputId": "8feb17db-7852-4fd6-f115-5fbe8b656a09"
      },
      "execution_count": null,
      "outputs": [
        {
          "output_type": "stream",
          "name": "stdout",
          "text": [
            "<!DOCTYPE html>\n",
            "<html>\n",
            "<head>\n",
            "    <title>HTML範例</title>\n",
            "</head>\n",
            "<body>\n",
            "\n",
            "<h1>哈囉！HTML！</h1>\n",
            "\n",
            "<img src=\"ninja.jpg\" />\n",
            "\n",
            "</body>\n",
            "</html>\n"
          ]
        }
      ]
    },
    {
      "cell_type": "code",
      "source": [
        "f = open(\"index.html\",\"w\")\n",
        "f.write(r.text)\n",
        "f.close()"
      ],
      "metadata": {
        "id": "Vq0_QYpkgeCh"
      },
      "execution_count": null,
      "outputs": []
    },
    {
      "cell_type": "markdown",
      "source": [
        "## json v.s. dict/list 差別"
      ],
      "metadata": {
        "id": "UMbSZ9wNlqeH"
      }
    },
    {
      "cell_type": "code",
      "source": [
        "d = {}"
      ],
      "metadata": {
        "id": "fzxH0P52hHQ1"
      },
      "execution_count": null,
      "outputs": []
    },
    {
      "cell_type": "code",
      "source": [
        "d['cat'] = \"貓咪\""
      ],
      "metadata": {
        "id": "T4m7Ma5Vlx7V"
      },
      "execution_count": null,
      "outputs": []
    },
    {
      "cell_type": "code",
      "source": [
        "d['dog'] = \"狗狗\""
      ],
      "metadata": {
        "id": "9a6FO1wql1E0"
      },
      "execution_count": null,
      "outputs": []
    },
    {
      "cell_type": "code",
      "source": [
        "d"
      ],
      "metadata": {
        "colab": {
          "base_uri": "https://localhost:8080/"
        },
        "id": "ljKFbsKcl3eS",
        "outputId": "0c32f72b-48ca-429d-fd52-ee6996d90849"
      },
      "execution_count": null,
      "outputs": [
        {
          "output_type": "execute_result",
          "data": {
            "text/plain": [
              "{'cat': '貓咪', 'dog': '狗狗'}"
            ]
          },
          "metadata": {},
          "execution_count": 112
        }
      ]
    },
    {
      "cell_type": "code",
      "source": [
        "type(d)"
      ],
      "metadata": {
        "colab": {
          "base_uri": "https://localhost:8080/"
        },
        "id": "MpVKM4WFl32w",
        "outputId": "0ede69e1-e31f-44ca-cf97-265062455bb4"
      },
      "execution_count": null,
      "outputs": [
        {
          "output_type": "execute_result",
          "data": {
            "text/plain": [
              "dict"
            ]
          },
          "metadata": {},
          "execution_count": 113
        }
      ]
    },
    {
      "cell_type": "code",
      "source": [
        "e = '{\"cat\": \"貓咪\", \"dog\": \"狗狗\"}'"
      ],
      "metadata": {
        "id": "U6UgbajxmDeD"
      },
      "execution_count": null,
      "outputs": []
    },
    {
      "cell_type": "code",
      "source": [
        "type(e)"
      ],
      "metadata": {
        "colab": {
          "base_uri": "https://localhost:8080/"
        },
        "id": "zJLkaTNFmJ6z",
        "outputId": "e3517897-2d4a-475f-bd9e-6112187048dd"
      },
      "execution_count": null,
      "outputs": [
        {
          "output_type": "execute_result",
          "data": {
            "text/plain": [
              "str"
            ]
          },
          "metadata": {},
          "execution_count": 115
        }
      ]
    },
    {
      "cell_type": "code",
      "source": [
        "print(e)"
      ],
      "metadata": {
        "colab": {
          "base_uri": "https://localhost:8080/"
        },
        "id": "AwGSegYimOOc",
        "outputId": "70947c11-3150-4038-c126-ceaf194c760e"
      },
      "execution_count": null,
      "outputs": [
        {
          "output_type": "stream",
          "name": "stdout",
          "text": [
            "{\"cat\": \"貓咪\", \"dog\": \"狗狗\"}\n"
          ]
        }
      ]
    },
    {
      "cell_type": "code",
      "source": [
        "import json"
      ],
      "metadata": {
        "id": "kirKYZqbmQ1C"
      },
      "execution_count": null,
      "outputs": []
    },
    {
      "cell_type": "code",
      "source": [
        "f = json.loads(e)"
      ],
      "metadata": {
        "id": "y5zVeVgem56m"
      },
      "execution_count": null,
      "outputs": []
    },
    {
      "cell_type": "code",
      "source": [
        "type(f)"
      ],
      "metadata": {
        "colab": {
          "base_uri": "https://localhost:8080/"
        },
        "id": "c9tnaTaXm996",
        "outputId": "1631f7b2-d8c4-482e-92cb-162587ddde40"
      },
      "execution_count": null,
      "outputs": [
        {
          "output_type": "execute_result",
          "data": {
            "text/plain": [
              "dict"
            ]
          },
          "metadata": {},
          "execution_count": 119
        }
      ]
    },
    {
      "cell_type": "code",
      "source": [
        "f"
      ],
      "metadata": {
        "colab": {
          "base_uri": "https://localhost:8080/"
        },
        "id": "U3lUPdKtnQlf",
        "outputId": "11c4ee9f-e796-4e4e-814c-32276e3f34d7"
      },
      "execution_count": null,
      "outputs": [
        {
          "output_type": "execute_result",
          "data": {
            "text/plain": [
              "{'cat': '貓咪', 'dog': '狗狗'}"
            ]
          },
          "metadata": {},
          "execution_count": 120
        }
      ]
    },
    {
      "cell_type": "markdown",
      "source": [
        "## 使用萌典API"
      ],
      "metadata": {
        "id": "hb87k-AQoXIO"
      }
    },
    {
      "cell_type": "code",
      "source": [
        "url = \"https://www.moedict.tw/uni/\""
      ],
      "metadata": {
        "id": "kQpkJysanSP7"
      },
      "execution_count": null,
      "outputs": []
    },
    {
      "cell_type": "code",
      "source": [
        "q = \"教室\""
      ],
      "metadata": {
        "id": "OrOx_JXzolJM"
      },
      "execution_count": null,
      "outputs": []
    },
    {
      "cell_type": "code",
      "source": [
        "url + q"
      ],
      "metadata": {
        "colab": {
          "base_uri": "https://localhost:8080/",
          "height": 36
        },
        "id": "Auz2VMQGotch",
        "outputId": "7df23a62-7e05-4f22-e99d-1961221de173"
      },
      "execution_count": null,
      "outputs": [
        {
          "output_type": "execute_result",
          "data": {
            "text/plain": [
              "'https://www.moedict.tw/uni/教室'"
            ],
            "application/vnd.google.colaboratory.intrinsic+json": {
              "type": "string"
            }
          },
          "metadata": {},
          "execution_count": 123
        }
      ]
    },
    {
      "cell_type": "code",
      "source": [
        "r = requests.get(url+q)"
      ],
      "metadata": {
        "id": "BAXKlY0jopdf"
      },
      "execution_count": null,
      "outputs": []
    },
    {
      "cell_type": "code",
      "source": [
        "print(r.text)"
      ],
      "metadata": {
        "id": "AnRh_3Jxoy8h"
      },
      "execution_count": null,
      "outputs": []
    },
    {
      "cell_type": "code",
      "source": [
        "data = json.loads(r.text)"
      ],
      "metadata": {
        "id": "nDk53YT3o5IJ"
      },
      "execution_count": null,
      "outputs": []
    },
    {
      "cell_type": "code",
      "source": [
        "type(data)"
      ],
      "metadata": {
        "colab": {
          "base_uri": "https://localhost:8080/"
        },
        "id": "ZR4hxcdQpsd9",
        "outputId": "487a522a-5fb0-451d-b83e-e71d718cfc92"
      },
      "execution_count": null,
      "outputs": [
        {
          "output_type": "execute_result",
          "data": {
            "text/plain": [
              "dict"
            ]
          },
          "metadata": {},
          "execution_count": 128
        }
      ]
    },
    {
      "cell_type": "code",
      "source": [
        "data"
      ],
      "metadata": {
        "colab": {
          "base_uri": "https://localhost:8080/"
        },
        "id": "BH8wqpMBp6PS",
        "outputId": "d0da6161-e303-4fac-a354-32dca4a44148"
      },
      "execution_count": null,
      "outputs": [
        {
          "output_type": "execute_result",
          "data": {
            "text/plain": [
              "{'heteronyms': [{'bopomofo': 'ㄐㄧㄠˋ ㄕˋ',\n",
              "   'bopomofo2': 'jiàu shr̀',\n",
              "   'definitions': [{'def': '學校裡進行教學活動的房間。',\n",
              "     'example': ['如：「實驗教室」、「音樂教室」。'],\n",
              "     'synonyms': '課堂,講堂'}],\n",
              "   'pinyin': 'jiào shì'}],\n",
              " 'title': '教室'}"
            ]
          },
          "metadata": {},
          "execution_count": 129
        }
      ]
    },
    {
      "cell_type": "code",
      "source": [
        "data.keys()"
      ],
      "metadata": {
        "colab": {
          "base_uri": "https://localhost:8080/"
        },
        "id": "uMPqjaCVpteZ",
        "outputId": "42317795-bb15-4eb4-c0ab-16212ac139dd"
      },
      "execution_count": null,
      "outputs": [
        {
          "output_type": "execute_result",
          "data": {
            "text/plain": [
              "dict_keys(['heteronyms', 'title'])"
            ]
          },
          "metadata": {},
          "execution_count": 130
        }
      ]
    },
    {
      "cell_type": "code",
      "source": [
        "data['heteronyms']"
      ],
      "metadata": {
        "colab": {
          "base_uri": "https://localhost:8080/"
        },
        "id": "8l0_5DPWqToR",
        "outputId": "bc1479d9-db81-4d6b-d7c2-ff2058a2280d"
      },
      "execution_count": null,
      "outputs": [
        {
          "output_type": "execute_result",
          "data": {
            "text/plain": [
              "[{'bopomofo': 'ㄐㄧㄠˋ ㄕˋ',\n",
              "  'bopomofo2': 'jiàu shr̀',\n",
              "  'definitions': [{'def': '學校裡進行教學活動的房間。',\n",
              "    'example': ['如：「實驗教室」、「音樂教室」。'],\n",
              "    'synonyms': '課堂,講堂'}],\n",
              "  'pinyin': 'jiào shì'}]"
            ]
          },
          "metadata": {},
          "execution_count": 131
        }
      ]
    },
    {
      "cell_type": "code",
      "source": [
        "data['heteronyms'][0]"
      ],
      "metadata": {
        "colab": {
          "base_uri": "https://localhost:8080/"
        },
        "id": "5advbh1AqZeT",
        "outputId": "547512d6-fcee-4f5f-f197-f27e60914445"
      },
      "execution_count": null,
      "outputs": [
        {
          "output_type": "execute_result",
          "data": {
            "text/plain": [
              "{'bopomofo': 'ㄐㄧㄠˋ ㄕˋ',\n",
              " 'bopomofo2': 'jiàu shr̀',\n",
              " 'definitions': [{'def': '學校裡進行教學活動的房間。',\n",
              "   'example': ['如：「實驗教室」、「音樂教室」。'],\n",
              "   'synonyms': '課堂,講堂'}],\n",
              " 'pinyin': 'jiào shì'}"
            ]
          },
          "metadata": {},
          "execution_count": 132
        }
      ]
    },
    {
      "cell_type": "code",
      "source": [
        "data['heteronyms'][0]['definitions']"
      ],
      "metadata": {
        "colab": {
          "base_uri": "https://localhost:8080/"
        },
        "id": "YzuS83bfqiwf",
        "outputId": "c7671521-a08e-408f-94ad-894a5ad572e5"
      },
      "execution_count": null,
      "outputs": [
        {
          "output_type": "execute_result",
          "data": {
            "text/plain": [
              "[{'def': '學校裡進行教學活動的房間。',\n",
              "  'example': ['如：「實驗教室」、「音樂教室」。'],\n",
              "  'synonyms': '課堂,講堂'}]"
            ]
          },
          "metadata": {},
          "execution_count": 133
        }
      ]
    },
    {
      "cell_type": "code",
      "source": [
        "data['heteronyms'][0]['definitions'][0]"
      ],
      "metadata": {
        "colab": {
          "base_uri": "https://localhost:8080/"
        },
        "id": "oaUe_HAxqrHX",
        "outputId": "fb38f93a-7407-4f2a-e2b5-d0bfb4bb8257"
      },
      "execution_count": null,
      "outputs": [
        {
          "output_type": "execute_result",
          "data": {
            "text/plain": [
              "{'def': '學校裡進行教學活動的房間。', 'example': ['如：「實驗教室」、「音樂教室」。'], 'synonyms': '課堂,講堂'}"
            ]
          },
          "metadata": {},
          "execution_count": 134
        }
      ]
    },
    {
      "cell_type": "code",
      "source": [
        "data['heteronyms'][0]['definitions'][0]['def']"
      ],
      "metadata": {
        "colab": {
          "base_uri": "https://localhost:8080/",
          "height": 36
        },
        "id": "2zWYMQyqqyRf",
        "outputId": "e6d723f8-4030-4614-e575-d352d18df5a9"
      },
      "execution_count": null,
      "outputs": [
        {
          "output_type": "execute_result",
          "data": {
            "text/plain": [
              "'學校裡進行教學活動的房間。'"
            ],
            "application/vnd.google.colaboratory.intrinsic+json": {
              "type": "string"
            }
          },
          "metadata": {},
          "execution_count": 135
        }
      ]
    },
    {
      "cell_type": "code",
      "source": [
        "data = requests.get(url+\"森林\").json()"
      ],
      "metadata": {
        "id": "uuEWb0sbq4Cq"
      },
      "execution_count": null,
      "outputs": []
    },
    {
      "cell_type": "code",
      "source": [
        "data['heteronyms'][0]['definitions'][0]['def']"
      ],
      "metadata": {
        "colab": {
          "base_uri": "https://localhost:8080/",
          "height": 36
        },
        "id": "MLBV3d5drbRX",
        "outputId": "54d06e94-81f3-467e-8beb-f2580d4a3cd5"
      },
      "execution_count": null,
      "outputs": [
        {
          "output_type": "execute_result",
          "data": {
            "text/plain": [
              "'樹木密生的寬廣地區。'"
            ],
            "application/vnd.google.colaboratory.intrinsic+json": {
              "type": "string"
            }
          },
          "metadata": {},
          "execution_count": 137
        }
      ]
    },
    {
      "cell_type": "code",
      "source": [
        "def lookup(word):\n",
        "  data = requests.get(url+word).json()\n",
        "  return data['heteronyms'][0]['definitions'][0]['def']"
      ],
      "metadata": {
        "id": "EMpNnBAdrfE-"
      },
      "execution_count": null,
      "outputs": []
    },
    {
      "cell_type": "code",
      "source": [
        "lookup(\"春天\")"
      ],
      "metadata": {
        "colab": {
          "base_uri": "https://localhost:8080/",
          "height": 36
        },
        "id": "ROTXM4Hkru-v",
        "outputId": "30ba3132-f35b-47a8-cff7-83b4bdd0b8d8"
      },
      "execution_count": null,
      "outputs": [
        {
          "output_type": "execute_result",
          "data": {
            "text/plain": [
              "'春季，四季之首。'"
            ],
            "application/vnd.google.colaboratory.intrinsic+json": {
              "type": "string"
            }
          },
          "metadata": {},
          "execution_count": 141
        }
      ]
    },
    {
      "cell_type": "code",
      "source": [
        "gradio.Interface(lookup, \"text\", \"text\", title=\"國語辭典\").launch(share=True)"
      ],
      "metadata": {
        "colab": {
          "base_uri": "https://localhost:8080/",
          "height": 666
        },
        "id": "bE_iCeyUrxtY",
        "outputId": "04a18935-c8f3-4bd3-e068-0237b1e40a7d"
      },
      "execution_count": null,
      "outputs": [
        {
          "output_type": "stream",
          "name": "stdout",
          "text": [
            "Colab notebook detected. To show errors in colab notebook, set `debug=True` in `launch()`\n",
            "Running on public URL: https://51740.gradio.app\n",
            "\n",
            "This share link expires in 72 hours. For free permanent hosting, check out Spaces (https://huggingface.co/spaces)\n"
          ]
        },
        {
          "output_type": "display_data",
          "data": {
            "text/plain": [
              "<IPython.core.display.HTML object>"
            ],
            "text/html": [
              "<div><iframe src=\"https://51740.gradio.app\" width=\"900\" height=\"500\" allow=\"autoplay; camera; microphone;\" frameborder=\"0\" allowfullscreen></iframe></div>"
            ]
          },
          "metadata": {}
        },
        {
          "output_type": "execute_result",
          "data": {
            "text/plain": [
              "(<gradio.routes.App at 0x7f694ad3e9d0>,\n",
              " 'http://127.0.0.1:7867/',\n",
              " 'https://51740.gradio.app')"
            ]
          },
          "metadata": {},
          "execution_count": 142
        }
      ]
    },
    {
      "cell_type": "markdown",
      "source": [
        "## 作業：寫一個漢英字典\n",
        "\n",
        "api網址：https://www.moedict.tw/a/%E8%90%8C.json"
      ],
      "metadata": {
        "id": "lDHp4IeswOOW"
      }
    },
    {
      "cell_type": "code",
      "source": [
        "url = \"https://www.moedict.tw/a/\""
      ],
      "metadata": {
        "id": "RTvjQUOzwWkc"
      },
      "execution_count": null,
      "outputs": []
    },
    {
      "cell_type": "code",
      "source": [
        "q = \"教室\""
      ],
      "metadata": {
        "id": "DelJ0qTawaQa"
      },
      "execution_count": null,
      "outputs": []
    },
    {
      "cell_type": "code",
      "source": [
        "data = requests.get(url+q+\".json\").json()"
      ],
      "metadata": {
        "id": "Rq7VQtQKwdPu"
      },
      "execution_count": null,
      "outputs": []
    },
    {
      "cell_type": "code",
      "source": [
        "data"
      ],
      "metadata": {
        "colab": {
          "base_uri": "https://localhost:8080/"
        },
        "id": "5JLz8p6awkLJ",
        "outputId": "6b90dee6-20dc-4c42-b705-758ca9733057"
      },
      "execution_count": null,
      "outputs": [
        {
          "output_type": "execute_result",
          "data": {
            "text/plain": [
              "{'Deutsch': 'Klassenzimmer  (S)',\n",
              " 'English': 'classroom',\n",
              " 'francais': 'salle de classe',\n",
              " 'h': [{'=': '322500022',\n",
              "   'b': 'ㄐㄧㄠˋ\\u3000ㄕˋ',\n",
              "   'd': [{'e': ['`如~：「`實驗~`教室~」、「`音樂~`教室~」。'],\n",
              "     'f': '`學校~`裡~`進行~`教學~`活動~`的~`房間~。',\n",
              "     's': '`課堂~'}],\n",
              "   'p': 'jiào shì'}],\n",
              " 't': '`教~`室~',\n",
              " 'translation': {'Deutsch': ['Klassenzimmer  (S)'],\n",
              "  'English': ['classroom', 'CL:`間~|间[jian1]'],\n",
              "  'francais': ['salle de classe']}}"
            ]
          },
          "metadata": {},
          "execution_count": 146
        }
      ]
    },
    {
      "cell_type": "markdown",
      "source": [
        "## 分析台北市YouBike站點"
      ],
      "metadata": {
        "id": "twX8HElwy8HT"
      }
    },
    {
      "cell_type": "code",
      "source": [
        "url = \"https://tcgbusfs.blob.core.windows.net/dotapp/youbike/v2/youbike_immediate.json\""
      ],
      "metadata": {
        "id": "agAv5UwLwk82"
      },
      "execution_count": null,
      "outputs": []
    },
    {
      "cell_type": "code",
      "source": [
        "data = requests.get(url).json()"
      ],
      "metadata": {
        "id": "NyZloOUzzApU"
      },
      "execution_count": null,
      "outputs": []
    },
    {
      "cell_type": "code",
      "source": [
        "type(data)"
      ],
      "metadata": {
        "colab": {
          "base_uri": "https://localhost:8080/"
        },
        "id": "ARwEZazezEbc",
        "outputId": "bcdea232-4ad8-4062-908e-f05050d99549"
      },
      "execution_count": null,
      "outputs": [
        {
          "output_type": "execute_result",
          "data": {
            "text/plain": [
              "list"
            ]
          },
          "metadata": {},
          "execution_count": 149
        }
      ]
    },
    {
      "cell_type": "code",
      "source": [
        "data[0]"
      ],
      "metadata": {
        "colab": {
          "base_uri": "https://localhost:8080/"
        },
        "id": "GW88-7uUzGpk",
        "outputId": "891c7780-05dc-4d31-849d-ddd8d2185a3e"
      },
      "execution_count": null,
      "outputs": [
        {
          "output_type": "execute_result",
          "data": {
            "text/plain": [
              "{'act': '1',\n",
              " 'ar': '復興南路二段235號前',\n",
              " 'aren': 'No.235， Sec. 2， Fuxing S. Rd.',\n",
              " 'bemp': 29,\n",
              " 'infoDate': '2022-07-09',\n",
              " 'infoTime': '2022-07-09 15:10:10',\n",
              " 'lat': 25.02605,\n",
              " 'lng': 121.5436,\n",
              " 'mday': '2022-07-09 15:10:10',\n",
              " 'sarea': '大安區',\n",
              " 'sareaen': 'Daan Dist.',\n",
              " 'sbi': 0,\n",
              " 'sna': 'YouBike2.0_捷運科技大樓站',\n",
              " 'snaen': 'YouBike2.0_MRT Technology Bldg. Sta.',\n",
              " 'sno': '500101001',\n",
              " 'srcUpdateTime': '2022-07-09 15:10:21',\n",
              " 'tot': 29,\n",
              " 'updateTime': '2022-07-09 15:10:51'}"
            ]
          },
          "metadata": {},
          "execution_count": 150
        }
      ]
    },
    {
      "cell_type": "markdown",
      "source": [
        "# BeautifulSoup使用簡介"
      ],
      "metadata": {
        "id": "QsqN8HlS0g9f"
      }
    },
    {
      "cell_type": "markdown",
      "source": [
        "### 範例一"
      ],
      "metadata": {
        "id": "4MoKbQ6u3f1j"
      }
    },
    {
      "cell_type": "code",
      "source": [
        "page = \"\"\"<!DOCTYPE html>\n",
        "<html>\n",
        "<head>\n",
        "    <title>HTML範例</title>\n",
        "</head>\n",
        "<body>\n",
        "\n",
        "<h1>哈囉！HTML！</h1>\n",
        "\n",
        "<img src=\"ninja.jpg\" />\n",
        "\n",
        "</body>\n",
        "</html>\"\"\""
      ],
      "metadata": {
        "id": "XClQISAWzKyx"
      },
      "execution_count": null,
      "outputs": []
    },
    {
      "cell_type": "code",
      "source": [
        "from bs4 import BeautifulSoup"
      ],
      "metadata": {
        "id": "lv3Fsbg51BEo"
      },
      "execution_count": null,
      "outputs": []
    },
    {
      "cell_type": "code",
      "source": [
        "soup = BeautifulSoup(page)"
      ],
      "metadata": {
        "id": "8iil8sLZ1nek"
      },
      "execution_count": null,
      "outputs": []
    },
    {
      "cell_type": "code",
      "source": [
        "soup.title"
      ],
      "metadata": {
        "colab": {
          "base_uri": "https://localhost:8080/"
        },
        "id": "wJwVul6z1xPk",
        "outputId": "40ba38de-8342-4cdd-8946-d21e94079252"
      },
      "execution_count": null,
      "outputs": [
        {
          "output_type": "execute_result",
          "data": {
            "text/plain": [
              "<title>HTML範例</title>"
            ]
          },
          "metadata": {},
          "execution_count": 155
        }
      ]
    },
    {
      "cell_type": "code",
      "source": [
        "soup.title.text"
      ],
      "metadata": {
        "colab": {
          "base_uri": "https://localhost:8080/",
          "height": 36
        },
        "id": "5U5O5-4b13f_",
        "outputId": "03731ee3-e974-43da-9d0f-7992c0712a49"
      },
      "execution_count": null,
      "outputs": [
        {
          "output_type": "execute_result",
          "data": {
            "text/plain": [
              "'HTML範例'"
            ],
            "application/vnd.google.colaboratory.intrinsic+json": {
              "type": "string"
            }
          },
          "metadata": {},
          "execution_count": 156
        }
      ]
    },
    {
      "cell_type": "code",
      "source": [
        "soup.h1.text"
      ],
      "metadata": {
        "colab": {
          "base_uri": "https://localhost:8080/",
          "height": 36
        },
        "id": "0uZHD5z-17mt",
        "outputId": "4efd1f16-f780-4831-ccd8-4d86403b84db"
      },
      "execution_count": null,
      "outputs": [
        {
          "output_type": "execute_result",
          "data": {
            "text/plain": [
              "'哈囉！HTML！'"
            ],
            "application/vnd.google.colaboratory.intrinsic+json": {
              "type": "string"
            }
          },
          "metadata": {},
          "execution_count": 157
        }
      ]
    },
    {
      "cell_type": "markdown",
      "source": [
        "### 範例二"
      ],
      "metadata": {
        "id": "zT-6k9MD3irx"
      }
    },
    {
      "cell_type": "code",
      "source": [
        "page = \"\"\"<!DOCTYPE html>\n",
        "<html>\n",
        "<head>\n",
        "    <title>這是範例一</title>\n",
        "</head>\n",
        "<body>\n",
        "\n",
        "<h1>哈囉！HTML！</h1>\n",
        "\n",
        "<div class=\"class1\">\n",
        "    <p>這是第一個p標籤內容！</p>\n",
        "    <p>這是第二個p標籤內容！</p>\n",
        "</div>\n",
        "\n",
        "<div class=\"class2\">\n",
        "    <p>這是第三個p標籤內容！</p>\n",
        "    <p>這是第四個p標籤內容！</p>\n",
        "</div>\n",
        "</body>\n",
        "</html>\"\"\""
      ],
      "metadata": {
        "id": "k6j7lRUj2CqF"
      },
      "execution_count": null,
      "outputs": []
    },
    {
      "cell_type": "code",
      "source": [
        "soup = BeautifulSoup(page)"
      ],
      "metadata": {
        "id": "Ms_5yBnH3pYB"
      },
      "execution_count": null,
      "outputs": []
    },
    {
      "cell_type": "code",
      "source": [
        "soup.select(\"div.class1\")"
      ],
      "metadata": {
        "colab": {
          "base_uri": "https://localhost:8080/"
        },
        "id": "wchjb6Nz352w",
        "outputId": "c872aecb-6cec-4773-b340-b698cdd657dc"
      },
      "execution_count": null,
      "outputs": [
        {
          "output_type": "execute_result",
          "data": {
            "text/plain": [
              "[<div class=\"class1\">\n",
              " <p>這是第一個p標籤內容！</p>\n",
              " <p>這是第二個p標籤內容！</p>\n",
              " </div>]"
            ]
          },
          "metadata": {},
          "execution_count": 177
        }
      ]
    },
    {
      "cell_type": "markdown",
      "source": [
        "## 嘗試抓一下 momo 的冰箱的資料\n",
        "\n"
      ],
      "metadata": {
        "id": "GpFkNHwR5xV_"
      }
    },
    {
      "cell_type": "code",
      "source": [
        "import requests\n",
        "from bs4 import BeautifulSoup"
      ],
      "metadata": {
        "id": "hEDcMHZhDWDa"
      },
      "execution_count": null,
      "outputs": []
    },
    {
      "cell_type": "code",
      "source": [
        "url = \"https://www.momoshop.com.tw/category/LgrpCategory.jsp?l_code=2919100000&mdiv=1099600000-bt_0_996_11-&ctype=B\""
      ],
      "metadata": {
        "id": "KdvlQouJ4AAS"
      },
      "execution_count": null,
      "outputs": []
    },
    {
      "cell_type": "code",
      "source": [
        "url = \"https://www.momoshop.com.tw/category/LgrpCategory.jsp?l_code=2902000000&mdiv=1099600000-bt_0_996_11-&ctype=B&sourcePageType=4\""
      ],
      "metadata": {
        "id": "KhDdCw9VD84c"
      },
      "execution_count": null,
      "outputs": []
    },
    {
      "cell_type": "code",
      "source": [
        "headers = {\"user-agent\":\"Mozilla/5.0 (Windows NT 6.1; WOW64) AppleWebKit/537.36 (KHTML, like Gecko) Chrome/47.0.2526.111 Safari/537.36\"}"
      ],
      "metadata": {
        "id": "5LbBFO2A6HT0"
      },
      "execution_count": null,
      "outputs": []
    },
    {
      "cell_type": "code",
      "source": [
        "r = requests.get(url, headers=headers)"
      ],
      "metadata": {
        "id": "I6RUzfTQ57Bg"
      },
      "execution_count": null,
      "outputs": []
    },
    {
      "cell_type": "code",
      "source": [
        "soup = BeautifulSoup(r.text)"
      ],
      "metadata": {
        "id": "BFJ15fQe5-Nb"
      },
      "execution_count": null,
      "outputs": []
    },
    {
      "cell_type": "code",
      "source": [
        "products = soup.select(\"#bt_2_layout_b1 li a\")"
      ],
      "metadata": {
        "id": "ZnP00e-t6olz"
      },
      "execution_count": null,
      "outputs": []
    },
    {
      "cell_type": "code",
      "source": [
        "for x in products:\n",
        "  try:\n",
        "    prdname = x.select('.prdName')[0].text\n",
        "    prdprice = x.select('.prdPrice')[0].text\n",
        "    if prdname:\n",
        "      print(prdname, \"==>\", prdprice)\n",
        "  except Exception as e:\n",
        "    # print(e.args)\n",
        "    pass"
      ],
      "metadata": {
        "colab": {
          "base_uri": "https://localhost:8080/"
        },
        "id": "G-Ro6Pfo78o3",
        "outputId": "d41c442f-749e-4e1b-d2c3-20d737a9b4b6"
      },
      "execution_count": null,
      "outputs": [
        {
          "output_type": "stream",
          "name": "stdout",
          "text": [
            "【新品上市★美國Honeywell】X3 UVC殺菌空氣清淨機(X620S) ==> $32,900\n",
            "【Blueair】經典i系列290i空氣清淨機 去除99%病毒 抗PM2.5過敏原(8坪-13坪) ==> $22,880\n",
            "【Philips 飛利浦】奈米級空氣清淨機-360度高效過濾★適用18坪(AC2936) ==> $13,900\n",
            "【瑞典Blueair 限量福利品】空氣清淨機經典i系列 抗PM2.5過敏原 490i(12坪-20坪) ==> $17,999\n",
            "【3M新機上市★加碼送淨巧型清淨機FA-X50T】3M 淨呼吸全濾型空氣清淨機FA-S501(適用14-33坪空間) ==> $25,900\n",
            "【Electrolux 伊萊克斯】高效抗菌智能旗艦清淨機Pure A9(PA91-606DG 沉穩黑15-22坪) ==> $24,900\n",
            "【dyson 戴森】Purifier Cool Autoreact TP7A 二合一空氣清淨機(鎳白色 新品上市) ==> $12,900\n",
            "【SHARP 夏普】16坪自動除菌離子水活力空氣清淨機(KC-JH70T-W) ==> $11,900\n",
            "【Coway】綠淨力直立式空氣清淨機 獨家雙機組 AP-1216L+AP-1216L ==> $14,900\n",
            "【WINIX】MASTER雷射偵測清淨機旗艦款大坪數30坪 ==> $11,999\n",
            "【ECOVACS 科沃斯】AIRBOT AVA 全屋空氣清淨智慧機器人(移動淨化/頂規濾網 連動淨化/抗空污細菌病毒) ==> $17,900\n",
            "【LUFTRUM瑞際】六合一空氣品質檢測儀二代旗艦款- M01VC(紅外線升級版) ==> $7,980\n",
            "【美國Honeywell】InSightTM 空氣清淨機(HPA5250WTW) ==> $6,750\n",
            "【HERAN禾聯】小清新智慧抗敏空氣清淨機/偵測PM2.5/偵測異味(HAP-220H1H) ==> $2,777\n",
            "【Philips 飛利浦】奈米級空氣清淨機-白小奈★適用12-14坪(AC1715/80) ==> $11,990\n",
            "【WINIX】15L四效合一清淨烘鞋除濕機DO2U150-IWT0 ==> $9,999\n"
          ]
        }
      ]
    },
    {
      "cell_type": "code",
      "source": [
        "import pandas as pd"
      ],
      "metadata": {
        "id": "1pZjdz3m9GAs"
      },
      "execution_count": null,
      "outputs": []
    },
    {
      "cell_type": "code",
      "source": [
        "df = pd.read_excel('/content/7f0b6236-a2e1-4609-b0b7-849cd5fc4bd9.xls')"
      ],
      "metadata": {
        "id": "WIGNP2j6FvIZ"
      },
      "execution_count": null,
      "outputs": []
    },
    {
      "cell_type": "code",
      "source": [
        "df"
      ],
      "metadata": {
        "id": "epmJkYe5GOEi",
        "outputId": "00f21927-7aba-4133-94e0-515c95e1c5d2",
        "colab": {
          "base_uri": "https://localhost:8080/",
          "height": 1000
        }
      },
      "execution_count": null,
      "outputs": [
        {
          "output_type": "execute_result",
          "data": {
            "text/plain": [
              "    Year                 Dist      Area     Per  Fam_Y  Fam_All  Pub_Y  \\\n",
              "0    103                   總計  11901.72  847917   8601    66293   6350   \n",
              "1    103                  屏東市   1760.56  203866   7372    61972   5121   \n",
              "2    103                  高樹鄉    253.00   25520      0        1      0   \n",
              "3    103  萬丹地區(萬丹、仙吉、烏龍、鹽埔漁港)   1183.46   52085      0        0      0   \n",
              "4    103       里港地區(里港、九如、鹽埔)    866.33   75615      0        2      0   \n",
              "5    103     潮州、萬巒、內埔(含內埔工業區)   1852.39  131804      0      907      0   \n",
              "6    103                  麟洛鄉    285.00   11313      0        0      0   \n",
              "7    103                  佳冬鄉    568.24   20247      0        0      0   \n",
              "8    103                  林邊鄉    334.62   19235      0        0      0   \n",
              "9    103                  恆春鎮    508.60   30859   1229     3065   1229   \n",
              "10   103                  東港鎮   1012.32   48262      0      346      0   \n",
              "11   103                  長治鄉    315.40   30429      0        0      0   \n",
              "12   103                  竹田鄉    152.16   17719      0        0      0   \n",
              "13   103                  新埤鄉    172.83   10232      0        0      0   \n",
              "14   103                  枋寮鄉    554.00   25482      0        0      0   \n",
              "15   103                  新園鄉    148.08   36692      0        0      0   \n",
              "16   103                  崁頂鄉    194.62   16374      0        0      0   \n",
              "17   103                  南州鄉    289.77   11026      0        0      0   \n",
              "18   103                  琉球鄉   1156.14   12675      0        0      0   \n",
              "\n",
              "    Pub_All  Spec_Y  Spec_All  Ind_Y  Ind_All    Proc   Popu  Income       CMY  \n",
              "0     30912       0      6605   2251    28776   31.27  14.58   12026  11293501  \n",
              "1     28361       0      4835   2251    28776  121.59  55.65    4187  10129712  \n",
              "2         0       0         1      0        0    0.02   0.00       0         0  \n",
              "3         0       0         0      0        0    0.00   0.00       0         0  \n",
              "4         0       0         2      0        0    0.01   0.00       0         0  \n",
              "5         0       0       907      0        0    2.75   0.00    7839    409699  \n",
              "6         0       0         0      0        0    0.00   0.00       0         0  \n",
              "7         0       0         0      0        0    0.00   0.00       0         0  \n",
              "8         0       0         0      0        0    0.00   0.00       0         0  \n",
              "9      2551       0       514      0        0   39.73  33.07       0    754090  \n",
              "10        0       0       346      0        0    2.87   0.00       0         0  \n",
              "11        0       0         0      0        0    0.00   0.00       0         0  \n",
              "12        0       0         0      0        0    0.00   0.00       0         0  \n",
              "13        0       0         0      0        0    0.00   0.00       0         0  \n",
              "14        0       0         0      0        0    0.00   0.00       0         0  \n",
              "15        0       0         0      0        0    0.00   0.00       0         0  \n",
              "16        0       0         0      0        0    0.00   0.00       0         0  \n",
              "17        0       0         0      0        0    0.00   0.00       0         0  \n",
              "18        0       0         0      0        0    0.00   0.00       0         0  "
            ],
            "text/html": [
              "\n",
              "  <div id=\"df-c63deaf7-8481-476c-a765-e72711df6abe\">\n",
              "    <div class=\"colab-df-container\">\n",
              "      <div>\n",
              "<style scoped>\n",
              "    .dataframe tbody tr th:only-of-type {\n",
              "        vertical-align: middle;\n",
              "    }\n",
              "\n",
              "    .dataframe tbody tr th {\n",
              "        vertical-align: top;\n",
              "    }\n",
              "\n",
              "    .dataframe thead th {\n",
              "        text-align: right;\n",
              "    }\n",
              "</style>\n",
              "<table border=\"1\" class=\"dataframe\">\n",
              "  <thead>\n",
              "    <tr style=\"text-align: right;\">\n",
              "      <th></th>\n",
              "      <th>Year</th>\n",
              "      <th>Dist</th>\n",
              "      <th>Area</th>\n",
              "      <th>Per</th>\n",
              "      <th>Fam_Y</th>\n",
              "      <th>Fam_All</th>\n",
              "      <th>Pub_Y</th>\n",
              "      <th>Pub_All</th>\n",
              "      <th>Spec_Y</th>\n",
              "      <th>Spec_All</th>\n",
              "      <th>Ind_Y</th>\n",
              "      <th>Ind_All</th>\n",
              "      <th>Proc</th>\n",
              "      <th>Popu</th>\n",
              "      <th>Income</th>\n",
              "      <th>CMY</th>\n",
              "    </tr>\n",
              "  </thead>\n",
              "  <tbody>\n",
              "    <tr>\n",
              "      <th>0</th>\n",
              "      <td>103</td>\n",
              "      <td>總計</td>\n",
              "      <td>11901.72</td>\n",
              "      <td>847917</td>\n",
              "      <td>8601</td>\n",
              "      <td>66293</td>\n",
              "      <td>6350</td>\n",
              "      <td>30912</td>\n",
              "      <td>0</td>\n",
              "      <td>6605</td>\n",
              "      <td>2251</td>\n",
              "      <td>28776</td>\n",
              "      <td>31.27</td>\n",
              "      <td>14.58</td>\n",
              "      <td>12026</td>\n",
              "      <td>11293501</td>\n",
              "    </tr>\n",
              "    <tr>\n",
              "      <th>1</th>\n",
              "      <td>103</td>\n",
              "      <td>屏東市</td>\n",
              "      <td>1760.56</td>\n",
              "      <td>203866</td>\n",
              "      <td>7372</td>\n",
              "      <td>61972</td>\n",
              "      <td>5121</td>\n",
              "      <td>28361</td>\n",
              "      <td>0</td>\n",
              "      <td>4835</td>\n",
              "      <td>2251</td>\n",
              "      <td>28776</td>\n",
              "      <td>121.59</td>\n",
              "      <td>55.65</td>\n",
              "      <td>4187</td>\n",
              "      <td>10129712</td>\n",
              "    </tr>\n",
              "    <tr>\n",
              "      <th>2</th>\n",
              "      <td>103</td>\n",
              "      <td>高樹鄉</td>\n",
              "      <td>253.00</td>\n",
              "      <td>25520</td>\n",
              "      <td>0</td>\n",
              "      <td>1</td>\n",
              "      <td>0</td>\n",
              "      <td>0</td>\n",
              "      <td>0</td>\n",
              "      <td>1</td>\n",
              "      <td>0</td>\n",
              "      <td>0</td>\n",
              "      <td>0.02</td>\n",
              "      <td>0.00</td>\n",
              "      <td>0</td>\n",
              "      <td>0</td>\n",
              "    </tr>\n",
              "    <tr>\n",
              "      <th>3</th>\n",
              "      <td>103</td>\n",
              "      <td>萬丹地區(萬丹、仙吉、烏龍、鹽埔漁港)</td>\n",
              "      <td>1183.46</td>\n",
              "      <td>52085</td>\n",
              "      <td>0</td>\n",
              "      <td>0</td>\n",
              "      <td>0</td>\n",
              "      <td>0</td>\n",
              "      <td>0</td>\n",
              "      <td>0</td>\n",
              "      <td>0</td>\n",
              "      <td>0</td>\n",
              "      <td>0.00</td>\n",
              "      <td>0.00</td>\n",
              "      <td>0</td>\n",
              "      <td>0</td>\n",
              "    </tr>\n",
              "    <tr>\n",
              "      <th>4</th>\n",
              "      <td>103</td>\n",
              "      <td>里港地區(里港、九如、鹽埔)</td>\n",
              "      <td>866.33</td>\n",
              "      <td>75615</td>\n",
              "      <td>0</td>\n",
              "      <td>2</td>\n",
              "      <td>0</td>\n",
              "      <td>0</td>\n",
              "      <td>0</td>\n",
              "      <td>2</td>\n",
              "      <td>0</td>\n",
              "      <td>0</td>\n",
              "      <td>0.01</td>\n",
              "      <td>0.00</td>\n",
              "      <td>0</td>\n",
              "      <td>0</td>\n",
              "    </tr>\n",
              "    <tr>\n",
              "      <th>5</th>\n",
              "      <td>103</td>\n",
              "      <td>潮州、萬巒、內埔(含內埔工業區)</td>\n",
              "      <td>1852.39</td>\n",
              "      <td>131804</td>\n",
              "      <td>0</td>\n",
              "      <td>907</td>\n",
              "      <td>0</td>\n",
              "      <td>0</td>\n",
              "      <td>0</td>\n",
              "      <td>907</td>\n",
              "      <td>0</td>\n",
              "      <td>0</td>\n",
              "      <td>2.75</td>\n",
              "      <td>0.00</td>\n",
              "      <td>7839</td>\n",
              "      <td>409699</td>\n",
              "    </tr>\n",
              "    <tr>\n",
              "      <th>6</th>\n",
              "      <td>103</td>\n",
              "      <td>麟洛鄉</td>\n",
              "      <td>285.00</td>\n",
              "      <td>11313</td>\n",
              "      <td>0</td>\n",
              "      <td>0</td>\n",
              "      <td>0</td>\n",
              "      <td>0</td>\n",
              "      <td>0</td>\n",
              "      <td>0</td>\n",
              "      <td>0</td>\n",
              "      <td>0</td>\n",
              "      <td>0.00</td>\n",
              "      <td>0.00</td>\n",
              "      <td>0</td>\n",
              "      <td>0</td>\n",
              "    </tr>\n",
              "    <tr>\n",
              "      <th>7</th>\n",
              "      <td>103</td>\n",
              "      <td>佳冬鄉</td>\n",
              "      <td>568.24</td>\n",
              "      <td>20247</td>\n",
              "      <td>0</td>\n",
              "      <td>0</td>\n",
              "      <td>0</td>\n",
              "      <td>0</td>\n",
              "      <td>0</td>\n",
              "      <td>0</td>\n",
              "      <td>0</td>\n",
              "      <td>0</td>\n",
              "      <td>0.00</td>\n",
              "      <td>0.00</td>\n",
              "      <td>0</td>\n",
              "      <td>0</td>\n",
              "    </tr>\n",
              "    <tr>\n",
              "      <th>8</th>\n",
              "      <td>103</td>\n",
              "      <td>林邊鄉</td>\n",
              "      <td>334.62</td>\n",
              "      <td>19235</td>\n",
              "      <td>0</td>\n",
              "      <td>0</td>\n",
              "      <td>0</td>\n",
              "      <td>0</td>\n",
              "      <td>0</td>\n",
              "      <td>0</td>\n",
              "      <td>0</td>\n",
              "      <td>0</td>\n",
              "      <td>0.00</td>\n",
              "      <td>0.00</td>\n",
              "      <td>0</td>\n",
              "      <td>0</td>\n",
              "    </tr>\n",
              "    <tr>\n",
              "      <th>9</th>\n",
              "      <td>103</td>\n",
              "      <td>恆春鎮</td>\n",
              "      <td>508.60</td>\n",
              "      <td>30859</td>\n",
              "      <td>1229</td>\n",
              "      <td>3065</td>\n",
              "      <td>1229</td>\n",
              "      <td>2551</td>\n",
              "      <td>0</td>\n",
              "      <td>514</td>\n",
              "      <td>0</td>\n",
              "      <td>0</td>\n",
              "      <td>39.73</td>\n",
              "      <td>33.07</td>\n",
              "      <td>0</td>\n",
              "      <td>754090</td>\n",
              "    </tr>\n",
              "    <tr>\n",
              "      <th>10</th>\n",
              "      <td>103</td>\n",
              "      <td>東港鎮</td>\n",
              "      <td>1012.32</td>\n",
              "      <td>48262</td>\n",
              "      <td>0</td>\n",
              "      <td>346</td>\n",
              "      <td>0</td>\n",
              "      <td>0</td>\n",
              "      <td>0</td>\n",
              "      <td>346</td>\n",
              "      <td>0</td>\n",
              "      <td>0</td>\n",
              "      <td>2.87</td>\n",
              "      <td>0.00</td>\n",
              "      <td>0</td>\n",
              "      <td>0</td>\n",
              "    </tr>\n",
              "    <tr>\n",
              "      <th>11</th>\n",
              "      <td>103</td>\n",
              "      <td>長治鄉</td>\n",
              "      <td>315.40</td>\n",
              "      <td>30429</td>\n",
              "      <td>0</td>\n",
              "      <td>0</td>\n",
              "      <td>0</td>\n",
              "      <td>0</td>\n",
              "      <td>0</td>\n",
              "      <td>0</td>\n",
              "      <td>0</td>\n",
              "      <td>0</td>\n",
              "      <td>0.00</td>\n",
              "      <td>0.00</td>\n",
              "      <td>0</td>\n",
              "      <td>0</td>\n",
              "    </tr>\n",
              "    <tr>\n",
              "      <th>12</th>\n",
              "      <td>103</td>\n",
              "      <td>竹田鄉</td>\n",
              "      <td>152.16</td>\n",
              "      <td>17719</td>\n",
              "      <td>0</td>\n",
              "      <td>0</td>\n",
              "      <td>0</td>\n",
              "      <td>0</td>\n",
              "      <td>0</td>\n",
              "      <td>0</td>\n",
              "      <td>0</td>\n",
              "      <td>0</td>\n",
              "      <td>0.00</td>\n",
              "      <td>0.00</td>\n",
              "      <td>0</td>\n",
              "      <td>0</td>\n",
              "    </tr>\n",
              "    <tr>\n",
              "      <th>13</th>\n",
              "      <td>103</td>\n",
              "      <td>新埤鄉</td>\n",
              "      <td>172.83</td>\n",
              "      <td>10232</td>\n",
              "      <td>0</td>\n",
              "      <td>0</td>\n",
              "      <td>0</td>\n",
              "      <td>0</td>\n",
              "      <td>0</td>\n",
              "      <td>0</td>\n",
              "      <td>0</td>\n",
              "      <td>0</td>\n",
              "      <td>0.00</td>\n",
              "      <td>0.00</td>\n",
              "      <td>0</td>\n",
              "      <td>0</td>\n",
              "    </tr>\n",
              "    <tr>\n",
              "      <th>14</th>\n",
              "      <td>103</td>\n",
              "      <td>枋寮鄉</td>\n",
              "      <td>554.00</td>\n",
              "      <td>25482</td>\n",
              "      <td>0</td>\n",
              "      <td>0</td>\n",
              "      <td>0</td>\n",
              "      <td>0</td>\n",
              "      <td>0</td>\n",
              "      <td>0</td>\n",
              "      <td>0</td>\n",
              "      <td>0</td>\n",
              "      <td>0.00</td>\n",
              "      <td>0.00</td>\n",
              "      <td>0</td>\n",
              "      <td>0</td>\n",
              "    </tr>\n",
              "    <tr>\n",
              "      <th>15</th>\n",
              "      <td>103</td>\n",
              "      <td>新園鄉</td>\n",
              "      <td>148.08</td>\n",
              "      <td>36692</td>\n",
              "      <td>0</td>\n",
              "      <td>0</td>\n",
              "      <td>0</td>\n",
              "      <td>0</td>\n",
              "      <td>0</td>\n",
              "      <td>0</td>\n",
              "      <td>0</td>\n",
              "      <td>0</td>\n",
              "      <td>0.00</td>\n",
              "      <td>0.00</td>\n",
              "      <td>0</td>\n",
              "      <td>0</td>\n",
              "    </tr>\n",
              "    <tr>\n",
              "      <th>16</th>\n",
              "      <td>103</td>\n",
              "      <td>崁頂鄉</td>\n",
              "      <td>194.62</td>\n",
              "      <td>16374</td>\n",
              "      <td>0</td>\n",
              "      <td>0</td>\n",
              "      <td>0</td>\n",
              "      <td>0</td>\n",
              "      <td>0</td>\n",
              "      <td>0</td>\n",
              "      <td>0</td>\n",
              "      <td>0</td>\n",
              "      <td>0.00</td>\n",
              "      <td>0.00</td>\n",
              "      <td>0</td>\n",
              "      <td>0</td>\n",
              "    </tr>\n",
              "    <tr>\n",
              "      <th>17</th>\n",
              "      <td>103</td>\n",
              "      <td>南州鄉</td>\n",
              "      <td>289.77</td>\n",
              "      <td>11026</td>\n",
              "      <td>0</td>\n",
              "      <td>0</td>\n",
              "      <td>0</td>\n",
              "      <td>0</td>\n",
              "      <td>0</td>\n",
              "      <td>0</td>\n",
              "      <td>0</td>\n",
              "      <td>0</td>\n",
              "      <td>0.00</td>\n",
              "      <td>0.00</td>\n",
              "      <td>0</td>\n",
              "      <td>0</td>\n",
              "    </tr>\n",
              "    <tr>\n",
              "      <th>18</th>\n",
              "      <td>103</td>\n",
              "      <td>琉球鄉</td>\n",
              "      <td>1156.14</td>\n",
              "      <td>12675</td>\n",
              "      <td>0</td>\n",
              "      <td>0</td>\n",
              "      <td>0</td>\n",
              "      <td>0</td>\n",
              "      <td>0</td>\n",
              "      <td>0</td>\n",
              "      <td>0</td>\n",
              "      <td>0</td>\n",
              "      <td>0.00</td>\n",
              "      <td>0.00</td>\n",
              "      <td>0</td>\n",
              "      <td>0</td>\n",
              "    </tr>\n",
              "  </tbody>\n",
              "</table>\n",
              "</div>\n",
              "      <button class=\"colab-df-convert\" onclick=\"convertToInteractive('df-c63deaf7-8481-476c-a765-e72711df6abe')\"\n",
              "              title=\"Convert this dataframe to an interactive table.\"\n",
              "              style=\"display:none;\">\n",
              "        \n",
              "  <svg xmlns=\"http://www.w3.org/2000/svg\" height=\"24px\"viewBox=\"0 0 24 24\"\n",
              "       width=\"24px\">\n",
              "    <path d=\"M0 0h24v24H0V0z\" fill=\"none\"/>\n",
              "    <path d=\"M18.56 5.44l.94 2.06.94-2.06 2.06-.94-2.06-.94-.94-2.06-.94 2.06-2.06.94zm-11 1L8.5 8.5l.94-2.06 2.06-.94-2.06-.94L8.5 2.5l-.94 2.06-2.06.94zm10 10l.94 2.06.94-2.06 2.06-.94-2.06-.94-.94-2.06-.94 2.06-2.06.94z\"/><path d=\"M17.41 7.96l-1.37-1.37c-.4-.4-.92-.59-1.43-.59-.52 0-1.04.2-1.43.59L10.3 9.45l-7.72 7.72c-.78.78-.78 2.05 0 2.83L4 21.41c.39.39.9.59 1.41.59.51 0 1.02-.2 1.41-.59l7.78-7.78 2.81-2.81c.8-.78.8-2.07 0-2.86zM5.41 20L4 18.59l7.72-7.72 1.47 1.35L5.41 20z\"/>\n",
              "  </svg>\n",
              "      </button>\n",
              "      \n",
              "  <style>\n",
              "    .colab-df-container {\n",
              "      display:flex;\n",
              "      flex-wrap:wrap;\n",
              "      gap: 12px;\n",
              "    }\n",
              "\n",
              "    .colab-df-convert {\n",
              "      background-color: #E8F0FE;\n",
              "      border: none;\n",
              "      border-radius: 50%;\n",
              "      cursor: pointer;\n",
              "      display: none;\n",
              "      fill: #1967D2;\n",
              "      height: 32px;\n",
              "      padding: 0 0 0 0;\n",
              "      width: 32px;\n",
              "    }\n",
              "\n",
              "    .colab-df-convert:hover {\n",
              "      background-color: #E2EBFA;\n",
              "      box-shadow: 0px 1px 2px rgba(60, 64, 67, 0.3), 0px 1px 3px 1px rgba(60, 64, 67, 0.15);\n",
              "      fill: #174EA6;\n",
              "    }\n",
              "\n",
              "    [theme=dark] .colab-df-convert {\n",
              "      background-color: #3B4455;\n",
              "      fill: #D2E3FC;\n",
              "    }\n",
              "\n",
              "    [theme=dark] .colab-df-convert:hover {\n",
              "      background-color: #434B5C;\n",
              "      box-shadow: 0px 1px 3px 1px rgba(0, 0, 0, 0.15);\n",
              "      filter: drop-shadow(0px 1px 2px rgba(0, 0, 0, 0.3));\n",
              "      fill: #FFFFFF;\n",
              "    }\n",
              "  </style>\n",
              "\n",
              "      <script>\n",
              "        const buttonEl =\n",
              "          document.querySelector('#df-c63deaf7-8481-476c-a765-e72711df6abe button.colab-df-convert');\n",
              "        buttonEl.style.display =\n",
              "          google.colab.kernel.accessAllowed ? 'block' : 'none';\n",
              "\n",
              "        async function convertToInteractive(key) {\n",
              "          const element = document.querySelector('#df-c63deaf7-8481-476c-a765-e72711df6abe');\n",
              "          const dataTable =\n",
              "            await google.colab.kernel.invokeFunction('convertToInteractive',\n",
              "                                                     [key], {});\n",
              "          if (!dataTable) return;\n",
              "\n",
              "          const docLinkHtml = 'Like what you see? Visit the ' +\n",
              "            '<a target=\"_blank\" href=https://colab.research.google.com/notebooks/data_table.ipynb>data table notebook</a>'\n",
              "            + ' to learn more about interactive tables.';\n",
              "          element.innerHTML = '';\n",
              "          dataTable['output_type'] = 'display_data';\n",
              "          await google.colab.output.renderOutput(dataTable, element);\n",
              "          const docLink = document.createElement('div');\n",
              "          docLink.innerHTML = docLinkHtml;\n",
              "          element.appendChild(docLink);\n",
              "        }\n",
              "      </script>\n",
              "    </div>\n",
              "  </div>\n",
              "  "
            ]
          },
          "metadata": {},
          "execution_count": 3
        }
      ]
    },
    {
      "cell_type": "code",
      "source": [
        "!pip install xlrd --upgrade"
      ],
      "metadata": {
        "colab": {
          "base_uri": "https://localhost:8080/",
          "height": 302
        },
        "id": "6zK4Gi3MF1mg",
        "outputId": "9569a604-d685-47f5-acd4-f3a3f95f5f2d"
      },
      "execution_count": null,
      "outputs": [
        {
          "output_type": "stream",
          "name": "stdout",
          "text": [
            "Looking in indexes: https://pypi.org/simple, https://us-python.pkg.dev/colab-wheels/public/simple/\n",
            "Requirement already satisfied: xlrd in /usr/local/lib/python3.7/dist-packages (1.1.0)\n",
            "Collecting xlrd\n",
            "  Downloading xlrd-2.0.1-py2.py3-none-any.whl (96 kB)\n",
            "\u001b[K     |████████████████████████████████| 96 kB 3.3 MB/s \n",
            "\u001b[?25hInstalling collected packages: xlrd\n",
            "  Attempting uninstall: xlrd\n",
            "    Found existing installation: xlrd 1.1.0\n",
            "    Uninstalling xlrd-1.1.0:\n",
            "      Successfully uninstalled xlrd-1.1.0\n",
            "Successfully installed xlrd-2.0.1\n"
          ]
        },
        {
          "output_type": "display_data",
          "data": {
            "application/vnd.colab-display-data+json": {
              "pip_warning": {
                "packages": [
                  "xlrd"
                ]
              }
            }
          },
          "metadata": {}
        }
      ]
    },
    {
      "cell_type": "code",
      "source": [
        ""
      ],
      "metadata": {
        "id": "sGlPeW_HGFib"
      },
      "execution_count": null,
      "outputs": []
    }
  ]
}