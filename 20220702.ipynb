{
  "nbformat": 4,
  "nbformat_minor": 0,
  "metadata": {
    "colab": {
      "name": "20220702.ipynb",
      "provenance": [],
      "authorship_tag": "ABX9TyNLYC3ViXeupaIq/neVVlfV",
      "include_colab_link": true
    },
    "kernelspec": {
      "name": "python3",
      "display_name": "Python 3"
    },
    "language_info": {
      "name": "python"
    }
  },
  "cells": [
    {
      "cell_type": "markdown",
      "metadata": {
        "id": "view-in-github",
        "colab_type": "text"
      },
      "source": [
        "<a href=\"https://colab.research.google.com/github/vcdemy/20220702-python/blob/main/20220702.ipynb\" target=\"_parent\"><img src=\"https://colab.research.google.com/assets/colab-badge.svg\" alt=\"Open In Colab\"/></a>"
      ]
    },
    {
      "cell_type": "markdown",
      "source": [
        "# 20220702-Python人工智慧應用班"
      ],
      "metadata": {
        "id": "eCoh6bgxzcjd"
      }
    },
    {
      "cell_type": "code",
      "execution_count": 1,
      "metadata": {
        "colab": {
          "base_uri": "https://localhost:8080/"
        },
        "id": "WmvvTtiRytRE",
        "outputId": "a62e04a6-dcfc-4369-98db-199339d3aea0"
      },
      "outputs": [
        {
          "output_type": "stream",
          "name": "stdout",
          "text": [
            "Hello world!\n"
          ]
        }
      ],
      "source": [
        "print(\"Hello world!\")"
      ]
    },
    {
      "cell_type": "markdown",
      "source": [
        "# 畫金字塔"
      ],
      "metadata": {
        "id": "-bNM2lVK6c5K"
      }
    },
    {
      "cell_type": "code",
      "source": [
        "\"*\" * 10"
      ],
      "metadata": {
        "colab": {
          "base_uri": "https://localhost:8080/",
          "height": 36
        },
        "id": "9FEkaar_6f-S",
        "outputId": "121bcdde-5571-483a-8dd5-1b6e9177f461"
      },
      "execution_count": 2,
      "outputs": [
        {
          "output_type": "execute_result",
          "data": {
            "text/plain": [
              "'**********'"
            ],
            "application/vnd.google.colaboratory.intrinsic+json": {
              "type": "string"
            }
          },
          "metadata": {},
          "execution_count": 2
        }
      ]
    },
    {
      "cell_type": "code",
      "source": [
        "\"*\"*10+\" \"*10+\"*\"*10"
      ],
      "metadata": {
        "colab": {
          "base_uri": "https://localhost:8080/",
          "height": 36
        },
        "id": "Ay-LAbW86xgG",
        "outputId": "dcd74d8f-18a0-4192-812c-52c3d7f70398"
      },
      "execution_count": 3,
      "outputs": [
        {
          "output_type": "execute_result",
          "data": {
            "text/plain": [
              "'**********          **********'"
            ],
            "application/vnd.google.colaboratory.intrinsic+json": {
              "type": "string"
            }
          },
          "metadata": {},
          "execution_count": 3
        }
      ]
    },
    {
      "cell_type": "code",
      "source": [
        "for i in range(5):\n",
        "  print(i)"
      ],
      "metadata": {
        "colab": {
          "base_uri": "https://localhost:8080/"
        },
        "id": "mFwOsMQb647b",
        "outputId": "b88219d6-c784-4dc2-9842-39ff3d973d35"
      },
      "execution_count": 4,
      "outputs": [
        {
          "output_type": "stream",
          "name": "stdout",
          "text": [
            "0\n",
            "1\n",
            "2\n",
            "3\n",
            "4\n"
          ]
        }
      ]
    },
    {
      "cell_type": "code",
      "source": [
        "for i in range(5):\n",
        "  print(2*i+1)"
      ],
      "metadata": {
        "colab": {
          "base_uri": "https://localhost:8080/"
        },
        "id": "zWoZw5Ww7RzI",
        "outputId": "7a4e081d-24b6-4ce2-cc55-052aeec207b9"
      },
      "execution_count": 5,
      "outputs": [
        {
          "output_type": "stream",
          "name": "stdout",
          "text": [
            "1\n",
            "3\n",
            "5\n",
            "7\n",
            "9\n"
          ]
        }
      ]
    },
    {
      "cell_type": "code",
      "source": [
        "for i in range(5):\n",
        "  print((2*i+1)*\"*\")"
      ],
      "metadata": {
        "colab": {
          "base_uri": "https://localhost:8080/"
        },
        "id": "3cnKRpc17awU",
        "outputId": "7adf52e0-4577-4d4e-a3b8-648fe57c0bed"
      },
      "execution_count": 8,
      "outputs": [
        {
          "output_type": "stream",
          "name": "stdout",
          "text": [
            "*\n",
            "***\n",
            "*****\n",
            "*******\n",
            "*********\n"
          ]
        }
      ]
    },
    {
      "cell_type": "code",
      "source": [
        "for i in range(5):\n",
        "  print((5-i)*\" \"+(2*i+1)*\"*\")"
      ],
      "metadata": {
        "colab": {
          "base_uri": "https://localhost:8080/"
        },
        "id": "lKT58Cwy-QaA",
        "outputId": "120eb3e6-3267-43ba-ca26-061a2f601245"
      },
      "execution_count": 10,
      "outputs": [
        {
          "output_type": "stream",
          "name": "stdout",
          "text": [
            "     *\n",
            "    ***\n",
            "   *****\n",
            "  *******\n",
            " *********\n"
          ]
        }
      ]
    },
    {
      "cell_type": "code",
      "source": [
        "def pyramid(n):\n",
        "  for i in range(n):\n",
        "    print((n-i)*\" \"+(2*i+1)*\"*\")"
      ],
      "metadata": {
        "id": "fqoUFAcP_ZsY"
      },
      "execution_count": 18,
      "outputs": []
    },
    {
      "cell_type": "code",
      "source": [
        "pyramid(10)"
      ],
      "metadata": {
        "colab": {
          "base_uri": "https://localhost:8080/"
        },
        "id": "8rXPewj5_gcz",
        "outputId": "684d5151-81bf-46d6-f512-413a59ac2612"
      },
      "execution_count": 19,
      "outputs": [
        {
          "output_type": "stream",
          "name": "stdout",
          "text": [
            "          *\n",
            "         ***\n",
            "        *****\n",
            "       *******\n",
            "      *********\n",
            "     ***********\n",
            "    *************\n",
            "   ***************\n",
            "  *****************\n",
            " *******************\n"
          ]
        }
      ]
    },
    {
      "cell_type": "markdown",
      "source": [
        "# 變數"
      ],
      "metadata": {
        "id": "sIFBINXU6JpX"
      }
    },
    {
      "cell_type": "markdown",
      "source": [
        "* 變數名稱最好以英文字母或底線做開頭 (數字不能做開頭)\n",
        "  * _variable, variable, variable_\n",
        "* 除開頭字元外，其他字元使用數字、底線、或英文字母  \n",
        "  * _var123, var_123\n",
        "* 變數會區分大小寫\n",
        "* 避開關鍵字 (keywords)\n",
        "* 避開內建的物件 (built-in objects)\n"
      ],
      "metadata": {
        "id": "MgCUaEgib07t"
      }
    },
    {
      "cell_type": "code",
      "source": [
        "x = 1"
      ],
      "metadata": {
        "id": "L6tn7OqGzdNb"
      },
      "execution_count": 20,
      "outputs": []
    },
    {
      "cell_type": "code",
      "source": [
        "id?"
      ],
      "metadata": {
        "id": "lIvglm1bVA8F"
      },
      "execution_count": 23,
      "outputs": []
    },
    {
      "cell_type": "code",
      "source": [
        "# 印出 x 的記憶體位址\n",
        "id(x)"
      ],
      "metadata": {
        "colab": {
          "base_uri": "https://localhost:8080/"
        },
        "id": "3d5-8rSzUuUN",
        "outputId": "8cc76f6e-91b0-44fb-bd0c-fe4185377c05"
      },
      "execution_count": 21,
      "outputs": [
        {
          "output_type": "execute_result",
          "data": {
            "text/plain": [
              "11256064"
            ]
          },
          "metadata": {},
          "execution_count": 21
        }
      ]
    },
    {
      "cell_type": "code",
      "source": [
        "# 將 x 的記憶體位址轉換成 16 進位表示法\n",
        "hex(id(x))"
      ],
      "metadata": {
        "colab": {
          "base_uri": "https://localhost:8080/",
          "height": 36
        },
        "id": "OZmhH21wUxOh",
        "outputId": "475b34df-a8a6-4701-f87f-f6e3b1c5290b"
      },
      "execution_count": 22,
      "outputs": [
        {
          "output_type": "execute_result",
          "data": {
            "text/plain": [
              "'0xabc100'"
            ],
            "application/vnd.google.colaboratory.intrinsic+json": {
              "type": "string"
            }
          },
          "metadata": {},
          "execution_count": 22
        }
      ]
    },
    {
      "cell_type": "code",
      "source": [
        "X"
      ],
      "metadata": {
        "colab": {
          "base_uri": "https://localhost:8080/",
          "height": 169
        },
        "id": "0lMzr0ZJU1W2",
        "outputId": "bb4810be-b55b-427a-f2b9-951162387372"
      },
      "execution_count": 24,
      "outputs": [
        {
          "output_type": "error",
          "ename": "NameError",
          "evalue": "ignored",
          "traceback": [
            "\u001b[0;31m---------------------------------------------------------------------------\u001b[0m",
            "\u001b[0;31mNameError\u001b[0m                                 Traceback (most recent call last)",
            "\u001b[0;32m<ipython-input-24-b5fec669aca1>\u001b[0m in \u001b[0;36m<module>\u001b[0;34m()\u001b[0m\n\u001b[0;32m----> 1\u001b[0;31m \u001b[0mX\u001b[0m\u001b[0;34m\u001b[0m\u001b[0;34m\u001b[0m\u001b[0m\n\u001b[0m",
            "\u001b[0;31mNameError\u001b[0m: name 'X' is not defined"
          ]
        }
      ]
    },
    {
      "cell_type": "code",
      "source": [
        "2abc = 1"
      ],
      "metadata": {
        "colab": {
          "base_uri": "https://localhost:8080/",
          "height": 133
        },
        "id": "e8LpqxzyVlry",
        "outputId": "05610a6e-60df-4671-f562-645d30f915d9"
      },
      "execution_count": 25,
      "outputs": [
        {
          "output_type": "error",
          "ename": "SyntaxError",
          "evalue": "ignored",
          "traceback": [
            "\u001b[0;36m  File \u001b[0;32m\"<ipython-input-25-2d7800037141>\"\u001b[0;36m, line \u001b[0;32m1\u001b[0m\n\u001b[0;31m    2abc = 1\u001b[0m\n\u001b[0m       ^\u001b[0m\n\u001b[0;31mSyntaxError\u001b[0m\u001b[0;31m:\u001b[0m invalid syntax\n"
          ]
        }
      ]
    },
    {
      "cell_type": "code",
      "source": [
        "_2abc = 1"
      ],
      "metadata": {
        "id": "_j8yRJceVzcE"
      },
      "execution_count": 26,
      "outputs": []
    },
    {
      "cell_type": "code",
      "source": [
        "-2abc = 1"
      ],
      "metadata": {
        "colab": {
          "base_uri": "https://localhost:8080/",
          "height": 133
        },
        "id": "m0whGvzlV4rk",
        "outputId": "32e214ff-4c7a-4819-d22d-2157af4e0eed"
      },
      "execution_count": 27,
      "outputs": [
        {
          "output_type": "error",
          "ename": "SyntaxError",
          "evalue": "ignored",
          "traceback": [
            "\u001b[0;36m  File \u001b[0;32m\"<ipython-input-27-71843994cdab>\"\u001b[0;36m, line \u001b[0;32m1\u001b[0m\n\u001b[0;31m    -2abc = 1\u001b[0m\n\u001b[0m        ^\u001b[0m\n\u001b[0;31mSyntaxError\u001b[0m\u001b[0;31m:\u001b[0m invalid syntax\n"
          ]
        }
      ]
    },
    {
      "cell_type": "markdown",
      "source": [
        "# 資料型態"
      ],
      "metadata": {
        "id": "hVCro7ZnUgCF"
      }
    },
    {
      "cell_type": "markdown",
      "source": [
        "* int (整數) ==> 0, 1, 2, 3, ...\n",
        "* float (浮點數) ==> 3.14, 1.0, ...\n",
        "* bool (布林變數) ==> True (真, 對), False (假, 錯)\n",
        "* str (字串) ==> 用引號標註起來的文字訊息"
      ],
      "metadata": {
        "id": "Mkzb7uUkUjh8"
      }
    },
    {
      "cell_type": "code",
      "source": [
        "x = 1"
      ],
      "metadata": {
        "id": "xgWMTl9fUiMk"
      },
      "execution_count": 28,
      "outputs": []
    },
    {
      "cell_type": "code",
      "source": [
        "type(x)"
      ],
      "metadata": {
        "colab": {
          "base_uri": "https://localhost:8080/"
        },
        "id": "P68hyng4WjBj",
        "outputId": "5945c24e-02fc-4d38-a9f1-95262aedf32b"
      },
      "execution_count": 29,
      "outputs": [
        {
          "output_type": "execute_result",
          "data": {
            "text/plain": [
              "int"
            ]
          },
          "metadata": {},
          "execution_count": 29
        }
      ]
    },
    {
      "cell_type": "code",
      "source": [
        "print(type(x))"
      ],
      "metadata": {
        "colab": {
          "base_uri": "https://localhost:8080/"
        },
        "id": "wIXNSr51WlPF",
        "outputId": "c7f4a1d5-3c1b-405d-e273-b83b56b7eb88"
      },
      "execution_count": 30,
      "outputs": [
        {
          "output_type": "stream",
          "name": "stdout",
          "text": [
            "<class 'int'>\n"
          ]
        }
      ]
    },
    {
      "cell_type": "code",
      "source": [
        "y = 1.0"
      ],
      "metadata": {
        "id": "sPH40w5zWq-s"
      },
      "execution_count": 31,
      "outputs": []
    },
    {
      "cell_type": "code",
      "source": [
        "type(y)"
      ],
      "metadata": {
        "colab": {
          "base_uri": "https://localhost:8080/"
        },
        "id": "0rJ8r1L6WvrT",
        "outputId": "cdcc88ad-bd55-4530-8cfb-94ebaca344c5"
      },
      "execution_count": 32,
      "outputs": [
        {
          "output_type": "execute_result",
          "data": {
            "text/plain": [
              "float"
            ]
          },
          "metadata": {},
          "execution_count": 32
        }
      ]
    },
    {
      "cell_type": "code",
      "source": [
        "3 > 2"
      ],
      "metadata": {
        "colab": {
          "base_uri": "https://localhost:8080/"
        },
        "id": "YLwLtJ8zWwxN",
        "outputId": "bffb1ba8-d734-4569-ccea-f5771e300819"
      },
      "execution_count": 33,
      "outputs": [
        {
          "output_type": "execute_result",
          "data": {
            "text/plain": [
              "True"
            ]
          },
          "metadata": {},
          "execution_count": 33
        }
      ]
    },
    {
      "cell_type": "code",
      "source": [
        "z = 3 > 2"
      ],
      "metadata": {
        "id": "TNLJVgY-W5GA"
      },
      "execution_count": 34,
      "outputs": []
    },
    {
      "cell_type": "code",
      "source": [
        "type(z)"
      ],
      "metadata": {
        "colab": {
          "base_uri": "https://localhost:8080/"
        },
        "id": "O6MNPavCW8HV",
        "outputId": "063da102-6073-4423-d0c4-08ac958c595e"
      },
      "execution_count": 35,
      "outputs": [
        {
          "output_type": "execute_result",
          "data": {
            "text/plain": [
              "bool"
            ]
          },
          "metadata": {},
          "execution_count": 35
        }
      ]
    },
    {
      "cell_type": "code",
      "source": [
        "z"
      ],
      "metadata": {
        "colab": {
          "base_uri": "https://localhost:8080/"
        },
        "id": "FF_lOlBvW9vm",
        "outputId": "9117af34-7d76-46ec-ce46-2213710604c6"
      },
      "execution_count": 36,
      "outputs": [
        {
          "output_type": "execute_result",
          "data": {
            "text/plain": [
              "True"
            ]
          },
          "metadata": {},
          "execution_count": 36
        }
      ]
    },
    {
      "cell_type": "code",
      "source": [
        "u = 3 == 2"
      ],
      "metadata": {
        "id": "uvlHbmDPW_jc"
      },
      "execution_count": 38,
      "outputs": []
    },
    {
      "cell_type": "code",
      "source": [
        "u"
      ],
      "metadata": {
        "colab": {
          "base_uri": "https://localhost:8080/"
        },
        "id": "fIoxQ6K3X549",
        "outputId": "058a96fc-6ac7-44fb-e77c-b80449ef2b4b"
      },
      "execution_count": 39,
      "outputs": [
        {
          "output_type": "execute_result",
          "data": {
            "text/plain": [
              "False"
            ]
          },
          "metadata": {},
          "execution_count": 39
        }
      ]
    },
    {
      "cell_type": "code",
      "source": [
        "v = \"dog\""
      ],
      "metadata": {
        "id": "zyBIM0JaYVEt"
      },
      "execution_count": 43,
      "outputs": []
    },
    {
      "cell_type": "code",
      "source": [
        "type(v)"
      ],
      "metadata": {
        "colab": {
          "base_uri": "https://localhost:8080/"
        },
        "id": "8aS8p9NrYnXY",
        "outputId": "b952452f-81b0-4341-8d1f-3e46f4826d03"
      },
      "execution_count": 44,
      "outputs": [
        {
          "output_type": "execute_result",
          "data": {
            "text/plain": [
              "str"
            ]
          },
          "metadata": {},
          "execution_count": 44
        }
      ]
    }
  ]
}