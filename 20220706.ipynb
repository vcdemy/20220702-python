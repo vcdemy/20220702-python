{
  "nbformat": 4,
  "nbformat_minor": 0,
  "metadata": {
    "colab": {
      "name": "20220706.ipynb",
      "provenance": [],
      "authorship_tag": "ABX9TyO7Fhb+PfMz4k77YE3cFpvk",
      "include_colab_link": true
    },
    "kernelspec": {
      "name": "python3",
      "display_name": "Python 3"
    },
    "language_info": {
      "name": "python"
    }
  },
  "cells": [
    {
      "cell_type": "markdown",
      "metadata": {
        "id": "view-in-github",
        "colab_type": "text"
      },
      "source": [
        "<a href=\"https://colab.research.google.com/github/vcdemy/20220702-python/blob/main/20220706.ipynb\" target=\"_parent\"><img src=\"https://colab.research.google.com/assets/colab-badge.svg\" alt=\"Open In Colab\"/></a>"
      ]
    },
    {
      "cell_type": "markdown",
      "source": [
        "# 20220706"
      ],
      "metadata": {
        "id": "dhhofHErAAC-"
      }
    },
    {
      "cell_type": "markdown",
      "source": [
        "## 用程式寫一個九九乘法表"
      ],
      "metadata": {
        "id": "057yBgB9AMDu"
      }
    },
    {
      "cell_type": "markdown",
      "source": [
        "### 方法一：for 迴圈"
      ],
      "metadata": {
        "id": "bRGyYkaABOnF"
      }
    },
    {
      "cell_type": "code",
      "execution_count": null,
      "metadata": {
        "id": "GKddvBcI_-Lc"
      },
      "outputs": [],
      "source": [
        "for i in range(2, 10):\n",
        "  for j in range(2, 10):\n",
        "    print(f\"{i} x {j} = {i*j}\")"
      ]
    },
    {
      "cell_type": "markdown",
      "source": [
        "### 方法二: while 迴圈"
      ],
      "metadata": {
        "id": "BYigr6t7BSW8"
      }
    },
    {
      "cell_type": "code",
      "source": [
        "for i in range(2, 10):\n",
        "  for j in range(2, 10):\n",
        "    print(f\"{i}, {j}\")"
      ],
      "metadata": {
        "id": "PuxG9zlsByts"
      },
      "execution_count": null,
      "outputs": []
    },
    {
      "cell_type": "code",
      "source": [
        "i = 2\n",
        "while i < 10:\n",
        "  j = 2\n",
        "  while j < 10:\n",
        "    print(f\"{i} x {j} = {i * j}\")\n",
        "    j = j + 1\n",
        "  i = i + 1"
      ],
      "metadata": {
        "id": "tYppVQbVAEML"
      },
      "execution_count": null,
      "outputs": []
    },
    {
      "cell_type": "code",
      "source": [
        "i = 2\n",
        "j = 2\n",
        "while i < 10:\n",
        "  print(f\"{i}x{j}={i*j}\")\n",
        "  j = j + 1\n",
        "  if j == 10:\n",
        "    j = 2\n",
        "    i = i + 1"
      ],
      "metadata": {
        "id": "UwvGm6UjBFlx"
      },
      "execution_count": null,
      "outputs": []
    },
    {
      "cell_type": "markdown",
      "source": [
        "## json v.s. dict/list"
      ],
      "metadata": {
        "id": "0WMUU8GtIGz4"
      }
    },
    {
      "cell_type": "code",
      "source": [
        "s = \"\"\"{\n",
        "     \"firstName\": \"John\",\n",
        "     \"lastName\": \"Smith\",\n",
        "     \"sex\": \"male\",\n",
        "     \"age\": 25,\n",
        "     \"address\": \n",
        "     {\n",
        "         \"streetAddress\": \"21 2nd Street\",\n",
        "         \"city\": \"New York\",\n",
        "         \"state\": \"NY\",\n",
        "         \"postalCode\": \"10021\"\n",
        "     },\n",
        "     \"phoneNumber\": \n",
        "     [\n",
        "         {\n",
        "           \"type\": \"home\",\n",
        "           \"number\": \"212 555-1234\"\n",
        "         },\n",
        "         {\n",
        "           \"type\": \"fax\",\n",
        "           \"number\": \"646 555-4567\"\n",
        "         }\n",
        "     ]\n",
        " }\"\"\""
      ],
      "metadata": {
        "id": "2eK1q04tILIO"
      },
      "execution_count": null,
      "outputs": []
    },
    {
      "cell_type": "code",
      "source": [
        "type(s)"
      ],
      "metadata": {
        "colab": {
          "base_uri": "https://localhost:8080/"
        },
        "id": "YsyJlhqJIfS6",
        "outputId": "67c3c8fe-33c8-4b46-8fd3-3046aa13a842"
      },
      "execution_count": null,
      "outputs": [
        {
          "output_type": "execute_result",
          "data": {
            "text/plain": [
              "str"
            ]
          },
          "metadata": {},
          "execution_count": 12
        }
      ]
    },
    {
      "cell_type": "code",
      "source": [
        "d = {\n",
        "     \"firstName\": \"John\",\n",
        "     \"lastName\": \"Smith\",\n",
        "     \"sex\": \"male\",\n",
        "     \"age\": 25,\n",
        "     \"address\": \n",
        "     {\n",
        "         \"streetAddress\": \"21 2nd Street\",\n",
        "         \"city\": \"New York\",\n",
        "         \"state\": \"NY\",\n",
        "         \"postalCode\": \"10021\"\n",
        "     },\n",
        "     \"phoneNumber\": \n",
        "     [\n",
        "         {\n",
        "           \"type\": \"home\",\n",
        "           \"number\": \"212 555-1234\"\n",
        "         },\n",
        "         {\n",
        "           \"type\": \"fax\",\n",
        "           \"number\": \"646 555-4567\"\n",
        "         }\n",
        "     ]\n",
        " }"
      ],
      "metadata": {
        "id": "vNMgZFNJIgF5"
      },
      "execution_count": null,
      "outputs": []
    },
    {
      "cell_type": "code",
      "source": [
        "type(d)"
      ],
      "metadata": {
        "colab": {
          "base_uri": "https://localhost:8080/"
        },
        "id": "nsyLbQBkIoBb",
        "outputId": "fc6c4f83-c84d-4fc7-f161-5a2aa4b50409"
      },
      "execution_count": null,
      "outputs": [
        {
          "output_type": "execute_result",
          "data": {
            "text/plain": [
              "dict"
            ]
          },
          "metadata": {},
          "execution_count": 14
        }
      ]
    },
    {
      "cell_type": "code",
      "source": [
        "import json"
      ],
      "metadata": {
        "id": "RdGM2g5OIpYp"
      },
      "execution_count": null,
      "outputs": []
    },
    {
      "cell_type": "code",
      "source": [
        "data = json.loads(s)"
      ],
      "metadata": {
        "id": "MN29qFWXJG-_"
      },
      "execution_count": null,
      "outputs": []
    },
    {
      "cell_type": "code",
      "source": [
        "type(data)"
      ],
      "metadata": {
        "colab": {
          "base_uri": "https://localhost:8080/"
        },
        "id": "z2qlfK9jJLBE",
        "outputId": "0a8b4c31-e572-4a3f-c99a-fefd208c72c9"
      },
      "execution_count": null,
      "outputs": [
        {
          "output_type": "execute_result",
          "data": {
            "text/plain": [
              "dict"
            ]
          },
          "metadata": {},
          "execution_count": 17
        }
      ]
    },
    {
      "cell_type": "markdown",
      "source": [
        "### 讀取台北市 YouBike 站點資訊"
      ],
      "metadata": {
        "id": "OCxoAXRkKYHq"
      }
    },
    {
      "cell_type": "code",
      "source": [
        "import requests"
      ],
      "metadata": {
        "id": "jW39CAdCJMEJ"
      },
      "execution_count": null,
      "outputs": []
    },
    {
      "cell_type": "code",
      "source": [
        "url = \"https://tcgbusfs.blob.core.windows.net/dotapp/youbike/v2/youbike_immediate.json\""
      ],
      "metadata": {
        "id": "wsCHk3qvKFub"
      },
      "execution_count": null,
      "outputs": []
    },
    {
      "cell_type": "code",
      "source": [
        "r = requests.get(url).json()"
      ],
      "metadata": {
        "id": "xIGVWx4YKCVm"
      },
      "execution_count": null,
      "outputs": []
    },
    {
      "cell_type": "code",
      "source": [
        "type(r)"
      ],
      "metadata": {
        "colab": {
          "base_uri": "https://localhost:8080/"
        },
        "id": "sfSTKKkLKMBy",
        "outputId": "50fc0507-5b53-412f-955d-84ac8dddc647"
      },
      "execution_count": null,
      "outputs": [
        {
          "output_type": "execute_result",
          "data": {
            "text/plain": [
              "list"
            ]
          },
          "metadata": {},
          "execution_count": 21
        }
      ]
    },
    {
      "cell_type": "code",
      "source": [
        "type(r[0])"
      ],
      "metadata": {
        "colab": {
          "base_uri": "https://localhost:8080/"
        },
        "id": "OXSjYwtGKNHI",
        "outputId": "69196133-12f0-4c4a-e7b7-be4e729cca69"
      },
      "execution_count": null,
      "outputs": [
        {
          "output_type": "execute_result",
          "data": {
            "text/plain": [
              "dict"
            ]
          },
          "metadata": {},
          "execution_count": 23
        }
      ]
    },
    {
      "cell_type": "code",
      "source": [
        "r[0]['lat']"
      ],
      "metadata": {
        "colab": {
          "base_uri": "https://localhost:8080/"
        },
        "id": "9xMl9VZpKQ_J",
        "outputId": "69b7d9cb-c486-441b-e937-7e3d219dd32e"
      },
      "execution_count": null,
      "outputs": [
        {
          "output_type": "execute_result",
          "data": {
            "text/plain": [
              "25.02605"
            ]
          },
          "metadata": {},
          "execution_count": 25
        }
      ]
    },
    {
      "cell_type": "code",
      "source": [
        "r[0]['lng']"
      ],
      "metadata": {
        "colab": {
          "base_uri": "https://localhost:8080/"
        },
        "id": "glHaGdN-NZ3t",
        "outputId": "d9040d9d-70dd-483e-f5c5-5b711014da8d"
      },
      "execution_count": null,
      "outputs": [
        {
          "output_type": "execute_result",
          "data": {
            "text/plain": [
              "121.5436"
            ]
          },
          "metadata": {},
          "execution_count": 26
        }
      ]
    },
    {
      "cell_type": "code",
      "source": [
        "r[0]['sna']"
      ],
      "metadata": {
        "colab": {
          "base_uri": "https://localhost:8080/",
          "height": 36
        },
        "id": "ypzBmgXNN2R5",
        "outputId": "262ed018-cfbc-4483-f798-44be69181d60"
      },
      "execution_count": null,
      "outputs": [
        {
          "output_type": "execute_result",
          "data": {
            "text/plain": [
              "'YouBike2.0_捷運科技大樓站'"
            ],
            "application/vnd.google.colaboratory.intrinsic+json": {
              "type": "string"
            }
          },
          "metadata": {},
          "execution_count": 28
        }
      ]
    },
    {
      "cell_type": "code",
      "source": [
        "r[0]"
      ],
      "metadata": {
        "colab": {
          "base_uri": "https://localhost:8080/"
        },
        "id": "lOylZyvDN5B-",
        "outputId": "c9986d54-83cb-49da-eb11-b742f1133d54"
      },
      "execution_count": null,
      "outputs": [
        {
          "output_type": "execute_result",
          "data": {
            "text/plain": [
              "{'act': '1',\n",
              " 'ar': '復興南路二段235號前',\n",
              " 'aren': 'No.235， Sec. 2， Fuxing S. Rd.',\n",
              " 'bemp': 24,\n",
              " 'infoDate': '2022-07-06',\n",
              " 'infoTime': '2022-07-06 14:13:38',\n",
              " 'lat': 25.02605,\n",
              " 'lng': 121.5436,\n",
              " 'mday': '2022-07-06 14:13:38',\n",
              " 'sarea': '大安區',\n",
              " 'sareaen': 'Daan Dist.',\n",
              " 'sbi': 4,\n",
              " 'sna': 'YouBike2.0_捷運科技大樓站',\n",
              " 'snaen': 'YouBike2.0_MRT Technology Bldg. Sta.',\n",
              " 'sno': '500101001',\n",
              " 'srcUpdateTime': '2022-07-06 14:17:13',\n",
              " 'tot': 29,\n",
              " 'updateTime': '2022-07-06 14:17:51'}"
            ]
          },
          "metadata": {},
          "execution_count": 29
        }
      ]
    },
    {
      "cell_type": "code",
      "source": [
        "# Hint: 印出所有站點名稱\n",
        "for x in r:\n",
        "  print(x['sna'])"
      ],
      "metadata": {
        "id": "kCSeiXZbORN8"
      },
      "execution_count": null,
      "outputs": []
    },
    {
      "cell_type": "markdown",
      "source": [
        "## Homework: \n",
        "\n",
        "在 folium 上面，標出台北市的 YouBike 2.0 站點，並標上站點名稱。"
      ],
      "metadata": {
        "id": "swCSxMhFPK0J"
      }
    },
    {
      "cell_type": "markdown",
      "source": [
        "# Python基礎需知道的東西\n",
        "\n",
        "* data types: int, float, bool, str\n",
        "* container types: list, tuple, dict, set\n",
        "* 語法：loops, if statements, functions, exception handling"
      ],
      "metadata": {
        "id": "mMNFRpkaPvJ2"
      }
    },
    {
      "cell_type": "markdown",
      "source": [
        "## set"
      ],
      "metadata": {
        "id": "RIIyX4mGQCkg"
      }
    },
    {
      "cell_type": "code",
      "source": [
        "x = [1, 2, 3]\n",
        "y = [2, 3, 4]"
      ],
      "metadata": {
        "id": "M6LX0EYcPZoa"
      },
      "execution_count": null,
      "outputs": []
    },
    {
      "cell_type": "code",
      "source": [
        "x + y"
      ],
      "metadata": {
        "colab": {
          "base_uri": "https://localhost:8080/"
        },
        "id": "L9o-aLnJQJFC",
        "outputId": "88f6b81c-9e0c-4973-f663-154ef7cb7093"
      },
      "execution_count": null,
      "outputs": [
        {
          "output_type": "execute_result",
          "data": {
            "text/plain": [
              "[1, 2, 3, 2, 3, 4]"
            ]
          },
          "metadata": {},
          "execution_count": 32
        }
      ]
    },
    {
      "cell_type": "code",
      "source": [
        "z = set(x+y)"
      ],
      "metadata": {
        "id": "h0x7RjzXQcqh"
      },
      "execution_count": null,
      "outputs": []
    },
    {
      "cell_type": "code",
      "source": [
        "z"
      ],
      "metadata": {
        "colab": {
          "base_uri": "https://localhost:8080/"
        },
        "id": "2j1-gIxlQi6W",
        "outputId": "3a79c890-2634-43f5-a526-3cab6ed16b13"
      },
      "execution_count": null,
      "outputs": [
        {
          "output_type": "execute_result",
          "data": {
            "text/plain": [
              "{1, 2, 3, 4}"
            ]
          },
          "metadata": {},
          "execution_count": 34
        }
      ]
    },
    {
      "cell_type": "code",
      "source": [
        "type([1])"
      ],
      "metadata": {
        "colab": {
          "base_uri": "https://localhost:8080/"
        },
        "id": "9Y9dyzuhRRG8",
        "outputId": "3c7c301b-39e5-4a68-dd3a-eb76f96430dc"
      },
      "execution_count": null,
      "outputs": [
        {
          "output_type": "execute_result",
          "data": {
            "text/plain": [
              "list"
            ]
          },
          "metadata": {},
          "execution_count": 36
        }
      ]
    },
    {
      "cell_type": "code",
      "source": [
        "[1]*2"
      ],
      "metadata": {
        "colab": {
          "base_uri": "https://localhost:8080/"
        },
        "id": "nJtQ7NrMRThW",
        "outputId": "56d4a48b-d841-4965-f133-4e371801785a"
      },
      "execution_count": null,
      "outputs": [
        {
          "output_type": "execute_result",
          "data": {
            "text/plain": [
              "[1, 1]"
            ]
          },
          "metadata": {},
          "execution_count": 37
        }
      ]
    },
    {
      "cell_type": "code",
      "source": [
        "u = [1]*2 + [2]*3 + [3]*4"
      ],
      "metadata": {
        "id": "PaW6snbPQl0Q"
      },
      "execution_count": null,
      "outputs": []
    },
    {
      "cell_type": "code",
      "source": [
        "u"
      ],
      "metadata": {
        "colab": {
          "base_uri": "https://localhost:8080/"
        },
        "id": "7zrLwitvQ3Kc",
        "outputId": "ac09ffaf-a49d-4ed0-a1ed-70d4e0bf08ec"
      },
      "execution_count": null,
      "outputs": [
        {
          "output_type": "execute_result",
          "data": {
            "text/plain": [
              "[1, 1, 2, 2, 2, 3, 3, 3, 3]"
            ]
          },
          "metadata": {},
          "execution_count": 38
        }
      ]
    },
    {
      "cell_type": "code",
      "source": [
        "v = set(u)"
      ],
      "metadata": {
        "id": "DQ9CVenWRcFO"
      },
      "execution_count": null,
      "outputs": []
    },
    {
      "cell_type": "code",
      "source": [
        "v"
      ],
      "metadata": {
        "colab": {
          "base_uri": "https://localhost:8080/"
        },
        "id": "mSRUQ7T2Rl4s",
        "outputId": "4c134454-d7e4-4f58-f21c-cdc626424289"
      },
      "execution_count": null,
      "outputs": [
        {
          "output_type": "execute_result",
          "data": {
            "text/plain": [
              "{1, 2, 3}"
            ]
          },
          "metadata": {},
          "execution_count": 40
        }
      ]
    },
    {
      "cell_type": "code",
      "source": [
        "x = set(\"abcde\")\n",
        "y = set(\"cdefg\")"
      ],
      "metadata": {
        "id": "wZ0hWafdRxiz"
      },
      "execution_count": null,
      "outputs": []
    },
    {
      "cell_type": "code",
      "source": [
        "x"
      ],
      "metadata": {
        "colab": {
          "base_uri": "https://localhost:8080/"
        },
        "id": "t5JqzdF9R5CI",
        "outputId": "68f0856c-c973-446c-cec6-79985aa2841f"
      },
      "execution_count": null,
      "outputs": [
        {
          "output_type": "execute_result",
          "data": {
            "text/plain": [
              "{'a', 'b', 'c', 'd', 'e'}"
            ]
          },
          "metadata": {},
          "execution_count": 42
        }
      ]
    },
    {
      "cell_type": "code",
      "source": [
        "y"
      ],
      "metadata": {
        "colab": {
          "base_uri": "https://localhost:8080/"
        },
        "id": "dhabVs1jR6Op",
        "outputId": "ab9a624a-9073-4b8d-de42-c1e217ede604"
      },
      "execution_count": null,
      "outputs": [
        {
          "output_type": "execute_result",
          "data": {
            "text/plain": [
              "{'c', 'd', 'e', 'f', 'g'}"
            ]
          },
          "metadata": {},
          "execution_count": 43
        }
      ]
    },
    {
      "cell_type": "code",
      "source": [
        "# intersection\n",
        "x & y"
      ],
      "metadata": {
        "colab": {
          "base_uri": "https://localhost:8080/"
        },
        "id": "SyXvjrExR60T",
        "outputId": "bc03ddad-8067-4e61-be9b-52cb77b9ec3c"
      },
      "execution_count": null,
      "outputs": [
        {
          "output_type": "execute_result",
          "data": {
            "text/plain": [
              "{'c', 'd', 'e'}"
            ]
          },
          "metadata": {},
          "execution_count": 44
        }
      ]
    },
    {
      "cell_type": "code",
      "source": [
        "# union\n",
        "x | y"
      ],
      "metadata": {
        "colab": {
          "base_uri": "https://localhost:8080/"
        },
        "id": "bm3sNHzoSKDG",
        "outputId": "4d99adc3-bfe3-48c9-a0be-1d71d9c94936"
      },
      "execution_count": null,
      "outputs": [
        {
          "output_type": "execute_result",
          "data": {
            "text/plain": [
              "{'a', 'b', 'c', 'd', 'e', 'f', 'g'}"
            ]
          },
          "metadata": {},
          "execution_count": 45
        }
      ]
    },
    {
      "cell_type": "code",
      "source": [
        "len(x & y)"
      ],
      "metadata": {
        "colab": {
          "base_uri": "https://localhost:8080/"
        },
        "id": "zV084W35SOSq",
        "outputId": "f9b7db4c-e01f-4931-bffa-a758ec38234b"
      },
      "execution_count": null,
      "outputs": [
        {
          "output_type": "execute_result",
          "data": {
            "text/plain": [
              "3"
            ]
          },
          "metadata": {},
          "execution_count": 46
        }
      ]
    },
    {
      "cell_type": "code",
      "source": [
        "len(x | y)"
      ],
      "metadata": {
        "colab": {
          "base_uri": "https://localhost:8080/"
        },
        "id": "27bJdiSwSe4q",
        "outputId": "39576545-2dc2-4f89-b175-ee061fc9e634"
      },
      "execution_count": null,
      "outputs": [
        {
          "output_type": "execute_result",
          "data": {
            "text/plain": [
              "7"
            ]
          },
          "metadata": {},
          "execution_count": 47
        }
      ]
    },
    {
      "cell_type": "markdown",
      "source": [
        "## Exception Handling"
      ],
      "metadata": {
        "id": "JhqZyxywTQlh"
      }
    },
    {
      "cell_type": "code",
      "source": [
        "def add(x, y):\n",
        "  print(f\"{x} + {y} = {x+y}\")\n",
        "\n",
        "def sub(x, y):\n",
        "  print(f\"{x} - {y} = {x-y}\")\n",
        "\n",
        "def mul(x, y):\n",
        "  print(f\"{x} x {y} = {x*y}\")\n",
        "\n",
        "def div(x, y):\n",
        "  print(f\"{x} / {y} = {x/y}\")"
      ],
      "metadata": {
        "id": "eK-4JrywSh-M"
      },
      "execution_count": null,
      "outputs": []
    },
    {
      "cell_type": "code",
      "source": [
        "functions = [add, div, sub, mul]"
      ],
      "metadata": {
        "id": "_ctztp3uTgQn"
      },
      "execution_count": null,
      "outputs": []
    },
    {
      "cell_type": "code",
      "source": [
        "a = 3\n",
        "b = 0\n",
        "\n",
        "for x in functions:\n",
        "  try:\n",
        "    x(a, b)\n",
        "  except Exception as e:\n",
        "    print(e.args)"
      ],
      "metadata": {
        "colab": {
          "base_uri": "https://localhost:8080/"
        },
        "id": "4YVop6UBULcu",
        "outputId": "e6e584d3-f35e-4ee5-d130-485f7d804306"
      },
      "execution_count": null,
      "outputs": [
        {
          "output_type": "stream",
          "name": "stdout",
          "text": [
            "3 + 0 = 3\n",
            "('division by zero',)\n",
            "3 - 0 = 3\n",
            "3 x 0 = 0\n"
          ]
        }
      ]
    },
    {
      "cell_type": "markdown",
      "source": [
        "## requests 簡介"
      ],
      "metadata": {
        "id": "XKfOll2_bexN"
      }
    },
    {
      "cell_type": "markdown",
      "source": [
        "### 抓取網頁原始碼"
      ],
      "metadata": {
        "id": "0mpKglw-d1gQ"
      }
    },
    {
      "cell_type": "code",
      "source": [
        "import requests"
      ],
      "metadata": {
        "id": "BGyYmv98Ujb5"
      },
      "execution_count": null,
      "outputs": []
    },
    {
      "cell_type": "code",
      "source": [
        "r = requests.get(\"https://victorgau.github.io/khpy_web_intro/html_only.html\")"
      ],
      "metadata": {
        "id": "vCLAuRUtb0HC"
      },
      "execution_count": null,
      "outputs": []
    },
    {
      "cell_type": "code",
      "source": [
        "print(r.text)"
      ],
      "metadata": {
        "id": "ol6Uu4eLb5tK"
      },
      "execution_count": null,
      "outputs": []
    },
    {
      "cell_type": "code",
      "source": [
        "# 將抓下來的網頁原始碼存檔\n",
        "f = open(\"index.html\",\"w\")\n",
        "f.write(r.text)\n",
        "f.close()"
      ],
      "metadata": {
        "id": "KzdhjRuwcAZE"
      },
      "execution_count": null,
      "outputs": []
    },
    {
      "cell_type": "code",
      "source": [
        "# 不用呼叫 close() 的替代性作法\n",
        "with open(\"index.html\",\"w\") as f:\n",
        "  f.write(r.text)"
      ],
      "metadata": {
        "id": "rAkvKmyUc8tp"
      },
      "execution_count": null,
      "outputs": []
    },
    {
      "cell_type": "markdown",
      "source": [
        "### 抓取圖形檔"
      ],
      "metadata": {
        "id": "WCF9l4y-d4aU"
      }
    },
    {
      "cell_type": "code",
      "source": [
        "url = 'https://victorgau.github.io/khpy_web_intro/ninja.jpg'"
      ],
      "metadata": {
        "id": "lZrgQdBhd51J"
      },
      "execution_count": null,
      "outputs": []
    },
    {
      "cell_type": "code",
      "source": [
        "# 抓取圖片資料\n",
        "r = requests.get(url)"
      ],
      "metadata": {
        "id": "pIgHltCveBUO"
      },
      "execution_count": null,
      "outputs": []
    },
    {
      "cell_type": "code",
      "source": [
        "# 存成圖片\n",
        "with open(\"ninja.jpg\",\"wb\") as f:\n",
        "  f.write(r.content)"
      ],
      "metadata": {
        "id": "e5JDihuYeGh8"
      },
      "execution_count": null,
      "outputs": []
    },
    {
      "cell_type": "markdown",
      "source": [
        "### 抓取 pdf 檔"
      ],
      "metadata": {
        "id": "eZYvMBgZhs5P"
      }
    },
    {
      "cell_type": "code",
      "source": [
        "url = \"https://arxiv.org/pdf/2207.02194\""
      ],
      "metadata": {
        "id": "ixxhEmmJhvOb"
      },
      "execution_count": null,
      "outputs": []
    },
    {
      "cell_type": "code",
      "source": [
        "r = requests.get(url)"
      ],
      "metadata": {
        "id": "AIiFAI0IiBGe"
      },
      "execution_count": null,
      "outputs": []
    },
    {
      "cell_type": "code",
      "source": [
        "with open(\"test.pdf\",\"wb\") as f:\n",
        "  f.write(r.content)"
      ],
      "metadata": {
        "id": "acYzV3AYiDBJ"
      },
      "execution_count": null,
      "outputs": []
    },
    {
      "cell_type": "markdown",
      "source": [
        "### 字串處理"
      ],
      "metadata": {
        "id": "GugR0a1ViVYx"
      }
    },
    {
      "cell_type": "markdown",
      "source": [
        "#### split()"
      ],
      "metadata": {
        "id": "0la2PhhDi7-F"
      }
    },
    {
      "cell_type": "code",
      "source": [
        "url = 'https://victorgau.github.io/khpy_web_intro/ninja.jpg'"
      ],
      "metadata": {
        "id": "yY90Yx0viHp1"
      },
      "execution_count": null,
      "outputs": []
    },
    {
      "cell_type": "code",
      "source": [
        "url.split(\"/\")[-1]"
      ],
      "metadata": {
        "colab": {
          "base_uri": "https://localhost:8080/",
          "height": 36
        },
        "id": "MbMqPxb9iYK3",
        "outputId": "65e44f0d-08ae-43ea-eaf4-c757007bcb27"
      },
      "execution_count": null,
      "outputs": [
        {
          "output_type": "execute_result",
          "data": {
            "text/plain": [
              "'ninja.jpg'"
            ],
            "application/vnd.google.colaboratory.intrinsic+json": {
              "type": "string"
            }
          },
          "metadata": {},
          "execution_count": 84
        }
      ]
    },
    {
      "cell_type": "markdown",
      "source": [
        "#### strip()"
      ],
      "metadata": {
        "id": "y9o83PQLi-80"
      }
    },
    {
      "cell_type": "code",
      "source": [
        "x = \"    xxxx    \""
      ],
      "metadata": {
        "id": "JGcpETqvifbK"
      },
      "execution_count": null,
      "outputs": []
    },
    {
      "cell_type": "code",
      "source": [
        "x.strip()"
      ],
      "metadata": {
        "colab": {
          "base_uri": "https://localhost:8080/",
          "height": 36
        },
        "id": "xSOaCOgai2pg",
        "outputId": "9bdef18c-6902-4b30-92da-103176de5b29"
      },
      "execution_count": null,
      "outputs": [
        {
          "output_type": "execute_result",
          "data": {
            "text/plain": [
              "'xxxx'"
            ],
            "application/vnd.google.colaboratory.intrinsic+json": {
              "type": "string"
            }
          },
          "metadata": {},
          "execution_count": 86
        }
      ]
    },
    {
      "cell_type": "code",
      "source": [
        "x.lstrip()"
      ],
      "metadata": {
        "colab": {
          "base_uri": "https://localhost:8080/",
          "height": 36
        },
        "id": "aUewYRLrjCOj",
        "outputId": "e23de95b-684e-41ed-8285-56fb4d60df9d"
      },
      "execution_count": null,
      "outputs": [
        {
          "output_type": "execute_result",
          "data": {
            "text/plain": [
              "'xxxx    '"
            ],
            "application/vnd.google.colaboratory.intrinsic+json": {
              "type": "string"
            }
          },
          "metadata": {},
          "execution_count": 87
        }
      ]
    },
    {
      "cell_type": "code",
      "source": [
        "x.rstrip()"
      ],
      "metadata": {
        "colab": {
          "base_uri": "https://localhost:8080/",
          "height": 36
        },
        "id": "F6xpWx_HjGwT",
        "outputId": "2b33c82c-932c-4ea7-8dc7-7d91cd3c7afc"
      },
      "execution_count": null,
      "outputs": [
        {
          "output_type": "execute_result",
          "data": {
            "text/plain": [
              "'    xxxx'"
            ],
            "application/vnd.google.colaboratory.intrinsic+json": {
              "type": "string"
            }
          },
          "metadata": {},
          "execution_count": 88
        }
      ]
    },
    {
      "cell_type": "markdown",
      "source": [
        "### 讀一下萌典資料"
      ],
      "metadata": {
        "id": "7NjNHvNqlvwq"
      }
    },
    {
      "cell_type": "code",
      "source": [
        "q = \"孔子\""
      ],
      "metadata": {
        "id": "xZQgTpAejJzG"
      },
      "execution_count": null,
      "outputs": []
    },
    {
      "cell_type": "code",
      "source": [
        "url = f\"https://www.moedict.tw/a/{q}.json\""
      ],
      "metadata": {
        "id": "Tdy8aiSnmGDD"
      },
      "execution_count": null,
      "outputs": []
    },
    {
      "cell_type": "code",
      "source": [
        "data = requests.get(url).json()"
      ],
      "metadata": {
        "id": "LtJgjJUumJdB"
      },
      "execution_count": null,
      "outputs": []
    },
    {
      "cell_type": "code",
      "source": [
        "data['English']"
      ],
      "metadata": {
        "colab": {
          "base_uri": "https://localhost:8080/",
          "height": 53
        },
        "id": "MydxaM5amNW4",
        "outputId": "eb7822ad-b55b-4db2-b2fa-0ff08217a36b"
      },
      "execution_count": null,
      "outputs": [
        {
          "output_type": "execute_result",
          "data": {
            "text/plain": [
              "'Confucius (551-479 BC), Chinese thinker and social philosopher, also known as `孔夫子~[Kong3 fu1 zi3]'"
            ],
            "application/vnd.google.colaboratory.intrinsic+json": {
              "type": "string"
            }
          },
          "metadata": {},
          "execution_count": 101
        }
      ]
    },
    {
      "cell_type": "code",
      "source": [
        ""
      ],
      "metadata": {
        "id": "cyLgkB0EmOoR"
      },
      "execution_count": null,
      "outputs": []
    }
  ]
}